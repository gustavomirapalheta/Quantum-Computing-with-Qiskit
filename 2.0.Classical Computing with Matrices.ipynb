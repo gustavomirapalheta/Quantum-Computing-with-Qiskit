{
  "nbformat": 4,
  "nbformat_minor": 0,
  "metadata": {
    "colab": {
      "provenance": [],
      "collapsed_sections": [
        "sW7UgQCBRyQw",
        "VV3eX9ovB9mm",
        "VNL6W8InCJwH",
        "15vW4PaICzMM",
        "Z-Ew407NC9ja",
        "MHUXwokxDVw5",
        "UKM9qKSADnW6",
        "S2eJQMotDqpw",
        "oir8ORAJPpbu",
        "q6CKyAjZExhB",
        "4ocGrhlWiWIf",
        "v3UqkrjBQNpm",
        "WiU5MCxkVRFn",
        "iXLV4XrNmv3P",
        "SvVZ5cDuxVpq",
        "kiCk9ste2kEp",
        "Ptc148gj5-yM",
        "eapieNWAAmwi",
        "ytG9GpwxO92b",
        "9MagSZ19UCn-",
        "sUWvvOG1JA4p",
        "oafuF4Woxzfn",
        "to7XEAQG-TeN",
        "0wMhivx2ZcKK",
        "YwgtKJNeUgce",
        "IBHGIBs-chJ4",
        "wLjxgdx-pjFa",
        "2D5Xgh1pCqkw",
        "Id1_8joHHF1R",
        "MG4KkBKXccmh",
        "akkdxEaqI6E-",
        "fSAcu_1CxpTf",
        "eT58FeMdKNB4",
        "MGJ6o50INzVc",
        "ZTbai-XW8rJv",
        "-NHN7Bhe-5Vm",
        "74orZ86E-_Dd",
        "dZHO-jrv_DkH",
        "6un9f7n7_m1h",
        "-goLmNeMQS5j",
        "rgApWdmDR0_6",
        "6v9XWEJwSpbd",
        "iHZnCzcHgvlG",
        "ShXnWwZxhBHa",
        "G4CDOj9dRaiQ",
        "_xxGuaeKhQ7D",
        "f00zjAKEDBf1",
        "esSMH1DwOdNV",
        "8kYgfEZZPPcZ",
        "GVuYdxlVOvsX",
        "17eC7VutPZLu",
        "msgcQHcRQC7E",
        "w0DCn9z8Spgi",
        "NbB57ROyaK3g",
        "L5Yf_7rCbOT1",
        "5NGpg49zbivF",
        "n7_t5GFMJuUu",
        "YIKtbAUf6vgz",
        "gCDxt_iUTnaT",
        "e-etkHt80C88",
        "3wTSvE6307_I",
        "jVXS820b0MXH",
        "vs0gUv1_0cxt",
        "fq053ufO0sHF",
        "CJrKy34yTzL2",
        "heLe5LaUuri4",
        "BecRJl3d1P76",
        "1FDtHZxNuOcG",
        "48OFgjtauiMO",
        "V9VbEDWOu92x",
        "rIm0cRaEvULT",
        "VbfKm6javeWb",
        "OzS1Svbq7jFs",
        "vJJUVyxM76WV",
        "EUqwY5N88U6u",
        "p7EEc0y-87vv",
        "QubQJSU1-Wxy",
        "yTMmCaQxXCSx",
        "uI2eavuPr-t-",
        "jLutxRBaR_M0",
        "zaeTfdrdx_nX",
        "Y1unh1voF3Y-",
        "KnOau2_XGlu_",
        "N0RPCz4uIU46",
        "Y4nRvlBMLCYk",
        "nEw0BFT6FX-V",
        "SvYkYYlPpJyh",
        "1hijUpTVpuCz",
        "7BGZrQGcqEGS",
        "zMhhS_iRq-AK",
        "5ibJQU5Zr2ps",
        "nmfGSC_3Jgmu",
        "BI-L3c_5J0iW",
        "F40kMbYFKBUh",
        "Q10FtS93cIE_",
        "ItvjCTx3PgZm",
        "amUC3Wc8FQm5",
        "9HIdHPdawN0o",
        "8NfADmgHoJpH",
        "oY1u9FGH3ede",
        "APQMlSsDwd3f",
        "cZp76jVZNInK",
        "eBV5luoh_lRe",
        "15uOBDwm_cs9",
        "0KZnJR3_h4Gx",
        "T9x2pcGvkeNP",
        "zvXsjA6iopHP",
        "6mZDq-zEu-Zs",
        "D68JObqavGGS",
        "skJ_bWG9Rcmc",
        "mrapECCuD4US",
        "Pf5aV6vAYg_n",
        "onbvRcz1YsJq",
        "rBeuRW6OKQWa",
        "RG28afA4QCNP",
        "BoAcjzvXRY2n",
        "XE8-dMvQUoDG"
      ]
    },
    "kernelspec": {
      "display_name": "Python 3 (ipykernel)",
      "language": "python",
      "name": "python3"
    },
    "language_info": {
      "codemirror_mode": {
        "name": "ipython",
        "version": 3
      },
      "file_extension": ".py",
      "mimetype": "text/x-python",
      "name": "python",
      "nbconvert_exporter": "python",
      "pygments_lexer": "ipython3",
      "version": "3.8.10"
    }
  },
  "cells": [
    {
      "cell_type": "markdown",
      "source": [
        "#### **Classical Computing with Matrices Exercises**"
      ],
      "metadata": {
        "id": "6v9XWEJwSpbd"
      }
    },
    {
      "cell_type": "markdown",
      "source": [
        "##### Crie a representação matricial de uma operação NOT, AND, OR, NAND, NOR."
      ],
      "metadata": {
        "id": "iHZnCzcHgvlG"
      }
    },
    {
      "cell_type": "code",
      "source": [
        "NOT = np.array([[0,1],[1,0]]); NOT"
      ],
      "metadata": {
        "colab": {
          "base_uri": "https://localhost:8080/"
        },
        "id": "Oxf5DgU9TodJ",
        "outputId": "38c7f92e-21a9-4067-8ad7-4cf7f7709cfb"
      },
      "execution_count": null,
      "outputs": [
        {
          "output_type": "execute_result",
          "data": {
            "text/plain": [
              "array([[0, 1],\n",
              "       [1, 0]])"
            ]
          },
          "metadata": {},
          "execution_count": 47
        }
      ]
    },
    {
      "cell_type": "code",
      "source": [
        "NOT.dot(D0)"
      ],
      "metadata": {
        "colab": {
          "base_uri": "https://localhost:8080/"
        },
        "id": "pjDSYI0fcW1s",
        "outputId": "c429ee7b-aad1-4897-d417-209984f9d177"
      },
      "execution_count": null,
      "outputs": [
        {
          "output_type": "execute_result",
          "data": {
            "text/plain": [
              "array([[0],\n",
              "       [1]])"
            ]
          },
          "metadata": {},
          "execution_count": 48
        }
      ]
    },
    {
      "cell_type": "code",
      "source": [
        "NOT.dot(D1)"
      ],
      "metadata": {
        "id": "mJrunVcpc9QJ",
        "outputId": "70f7ce38-cab8-4812-eb57-d2d8db145c02",
        "colab": {
          "base_uri": "https://localhost:8080/"
        }
      },
      "execution_count": null,
      "outputs": [
        {
          "output_type": "execute_result",
          "data": {
            "text/plain": [
              "array([[1],\n",
              "       [0]])"
            ]
          },
          "metadata": {},
          "execution_count": 49
        }
      ]
    },
    {
      "cell_type": "code",
      "source": [
        "AND = np.array([[1,1,1,0],[0,0,0,1]]); AND"
      ],
      "metadata": {
        "colab": {
          "base_uri": "https://localhost:8080/"
        },
        "id": "k5XvFnrrZrxe",
        "outputId": "d202fdc8-a323-4c2e-96cb-4e3d7e4b2c3d"
      },
      "execution_count": null,
      "outputs": [
        {
          "output_type": "execute_result",
          "data": {
            "text/plain": [
              "array([[1, 1, 1, 0],\n",
              "       [0, 0, 0, 1]])"
            ]
          },
          "metadata": {},
          "execution_count": 50
        }
      ]
    },
    {
      "cell_type": "code",
      "source": [
        "AND.dot(np.kron(D0,D0))"
      ],
      "metadata": {
        "colab": {
          "base_uri": "https://localhost:8080/"
        },
        "id": "5nJuXzrUaKw3",
        "outputId": "230c6eda-6183-4737-9323-201633aedc76"
      },
      "execution_count": null,
      "outputs": [
        {
          "output_type": "execute_result",
          "data": {
            "text/plain": [
              "array([[1],\n",
              "       [0]])"
            ]
          },
          "metadata": {},
          "execution_count": 51
        }
      ]
    },
    {
      "cell_type": "code",
      "source": [
        "AND.dot(np.kron(D0,D1))"
      ],
      "metadata": {
        "colab": {
          "base_uri": "https://localhost:8080/"
        },
        "id": "VcmVmLpMaPWI",
        "outputId": "c95ac654-43bf-4ee2-da3c-8050142be2ba"
      },
      "execution_count": null,
      "outputs": [
        {
          "output_type": "execute_result",
          "data": {
            "text/plain": [
              "array([[1],\n",
              "       [0]])"
            ]
          },
          "metadata": {},
          "execution_count": 52
        }
      ]
    },
    {
      "cell_type": "code",
      "source": [
        "AND.dot(np.kron(D1,D0))"
      ],
      "metadata": {
        "colab": {
          "base_uri": "https://localhost:8080/"
        },
        "id": "f5pv3iCraSkK",
        "outputId": "ee9ab20b-e559-4fab-e06b-9a59be99f71d"
      },
      "execution_count": null,
      "outputs": [
        {
          "output_type": "execute_result",
          "data": {
            "text/plain": [
              "array([[1],\n",
              "       [0]])"
            ]
          },
          "metadata": {},
          "execution_count": 53
        }
      ]
    },
    {
      "cell_type": "code",
      "source": [
        "AND.dot(np.kron(D1,D1))"
      ],
      "metadata": {
        "colab": {
          "base_uri": "https://localhost:8080/"
        },
        "id": "5wb5O3AxaVgU",
        "outputId": "f6612647-a17e-4835-fc88-60816eecb40e"
      },
      "execution_count": null,
      "outputs": [
        {
          "output_type": "execute_result",
          "data": {
            "text/plain": [
              "array([[0],\n",
              "       [1]])"
            ]
          },
          "metadata": {},
          "execution_count": 54
        }
      ]
    },
    {
      "cell_type": "code",
      "source": [
        "OR = np.array([[1,0,0,0],[0,1,1,1]]); OR"
      ],
      "metadata": {
        "colab": {
          "base_uri": "https://localhost:8080/"
        },
        "id": "zaKxErtdir11",
        "outputId": "ec2531af-5f8c-42e2-a85c-77fa4e94be61"
      },
      "execution_count": null,
      "outputs": [
        {
          "output_type": "execute_result",
          "data": {
            "text/plain": [
              "array([[1, 0, 0, 0],\n",
              "       [0, 1, 1, 1]])"
            ]
          },
          "metadata": {},
          "execution_count": 55
        }
      ]
    },
    {
      "cell_type": "code",
      "source": [
        "OR.dot(np.kron(D0,D0))"
      ],
      "metadata": {
        "colab": {
          "base_uri": "https://localhost:8080/"
        },
        "id": "CMvne9aoi4bQ",
        "outputId": "f958f07b-dc0d-4599-c9f9-8ce5c053451f"
      },
      "execution_count": null,
      "outputs": [
        {
          "output_type": "execute_result",
          "data": {
            "text/plain": [
              "array([[1],\n",
              "       [0]])"
            ]
          },
          "metadata": {},
          "execution_count": 57
        }
      ]
    },
    {
      "cell_type": "code",
      "source": [
        "OR.dot(np.kron(D0,D1))"
      ],
      "metadata": {
        "colab": {
          "base_uri": "https://localhost:8080/"
        },
        "id": "MlZuE1a-jC7i",
        "outputId": "bcc6bd0c-7f7d-4c57-a25a-3b3f8f74c5e6"
      },
      "execution_count": null,
      "outputs": [
        {
          "output_type": "execute_result",
          "data": {
            "text/plain": [
              "array([[0],\n",
              "       [1]])"
            ]
          },
          "metadata": {},
          "execution_count": 58
        }
      ]
    },
    {
      "cell_type": "code",
      "source": [
        "OR.dot(np.kron(D1,D0))"
      ],
      "metadata": {
        "colab": {
          "base_uri": "https://localhost:8080/"
        },
        "id": "AFhI5xAYjG2g",
        "outputId": "ca1fc9c5-8901-4ff6-d5d6-fb18fd5b0513"
      },
      "execution_count": null,
      "outputs": [
        {
          "output_type": "execute_result",
          "data": {
            "text/plain": [
              "array([[0],\n",
              "       [1]])"
            ]
          },
          "metadata": {},
          "execution_count": 59
        }
      ]
    },
    {
      "cell_type": "code",
      "source": [
        "OR.dot(np.kron(D1,D1))"
      ],
      "metadata": {
        "colab": {
          "base_uri": "https://localhost:8080/"
        },
        "id": "Oi3phKApjKXV",
        "outputId": "659470e5-8240-49cc-98a5-4c69fcbd2a7e"
      },
      "execution_count": null,
      "outputs": [
        {
          "output_type": "execute_result",
          "data": {
            "text/plain": [
              "array([[0],\n",
              "       [1]])"
            ]
          },
          "metadata": {},
          "execution_count": 60
        }
      ]
    },
    {
      "cell_type": "code",
      "source": [
        "NAND = np.array([[0,0,0,1],[1,1,1,0]]); NAND"
      ],
      "metadata": {
        "colab": {
          "base_uri": "https://localhost:8080/"
        },
        "id": "Rtp_nnhRjUQj",
        "outputId": "43024497-a1e0-4b51-c102-a2f07f0a2f0a"
      },
      "execution_count": null,
      "outputs": [
        {
          "output_type": "execute_result",
          "data": {
            "text/plain": [
              "array([[0, 0, 0, 1],\n",
              "       [1, 1, 1, 0]])"
            ]
          },
          "metadata": {},
          "execution_count": 62
        }
      ]
    },
    {
      "cell_type": "code",
      "source": [
        "NOT.dot(AND)"
      ],
      "metadata": {
        "colab": {
          "base_uri": "https://localhost:8080/"
        },
        "id": "4wZgCOP3j6zQ",
        "outputId": "d806e40d-5d5b-40dd-bd99-8fda3d0a20be"
      },
      "execution_count": null,
      "outputs": [
        {
          "output_type": "execute_result",
          "data": {
            "text/plain": [
              "array([[0, 0, 0, 1],\n",
              "       [1, 1, 1, 0]])"
            ]
          },
          "metadata": {},
          "execution_count": 63
        }
      ]
    },
    {
      "cell_type": "code",
      "source": [
        "NOR = np.array([[0,1,1,1],[1,0,0,0]]);NOR"
      ],
      "metadata": {
        "colab": {
          "base_uri": "https://localhost:8080/"
        },
        "id": "hgyzr0jikEjp",
        "outputId": "2a4a9ef5-a12c-4450-bb13-4df21385b2e8"
      },
      "execution_count": null,
      "outputs": [
        {
          "output_type": "execute_result",
          "data": {
            "text/plain": [
              "array([[0, 1, 1, 1],\n",
              "       [1, 0, 0, 0]])"
            ]
          },
          "metadata": {},
          "execution_count": 64
        }
      ]
    },
    {
      "cell_type": "markdown",
      "source": [
        "##### Comprove por multiplicação matricial que NOR = NOT.OR e NAND = NOT.AND"
      ],
      "metadata": {
        "id": "ShXnWwZxhBHa"
      }
    },
    {
      "cell_type": "code",
      "source": [
        "NOT.dot(OR)"
      ],
      "metadata": {
        "colab": {
          "base_uri": "https://localhost:8080/"
        },
        "id": "SSBqdtAhkRMR",
        "outputId": "d93b90d4-5d73-4314-8823-46f686cf67ed"
      },
      "execution_count": null,
      "outputs": [
        {
          "output_type": "execute_result",
          "data": {
            "text/plain": [
              "array([[0, 1, 1, 1],\n",
              "       [1, 0, 0, 0]])"
            ]
          },
          "metadata": {},
          "execution_count": 65
        }
      ]
    },
    {
      "cell_type": "code",
      "source": [
        "np.kron(NOT,AND)"
      ],
      "metadata": {
        "colab": {
          "base_uri": "https://localhost:8080/"
        },
        "id": "fWO1ylClm6Wx",
        "outputId": "e442fdfc-e3b8-409e-9968-b4c34abd6bd9"
      },
      "execution_count": null,
      "outputs": [
        {
          "output_type": "execute_result",
          "data": {
            "text/plain": [
              "array([[0, 0, 0, 0, 1, 1, 1, 0],\n",
              "       [0, 0, 0, 0, 0, 0, 0, 1],\n",
              "       [1, 1, 1, 0, 0, 0, 0, 0],\n",
              "       [0, 0, 0, 1, 0, 0, 0, 0]])"
            ]
          },
          "metadata": {},
          "execution_count": 68
        }
      ]
    },
    {
      "cell_type": "code",
      "source": [
        "OR.dot(np.kron(NOT,AND))"
      ],
      "metadata": {
        "colab": {
          "base_uri": "https://localhost:8080/"
        },
        "id": "f31HvjV7mjaC",
        "outputId": "42bda703-0a60-47fd-aeaa-c142b7a85d58"
      },
      "execution_count": null,
      "outputs": [
        {
          "output_type": "execute_result",
          "data": {
            "text/plain": [
              "array([[0, 0, 0, 0, 1, 1, 1, 0],\n",
              "       [1, 1, 1, 1, 0, 0, 0, 1]])"
            ]
          },
          "metadata": {},
          "execution_count": 67
        }
      ]
    },
    {
      "cell_type": "code",
      "source": [
        "NOT.dot(AND).dot(np.kron(NOT,NOT))"
      ],
      "metadata": {
        "colab": {
          "base_uri": "https://localhost:8080/"
        },
        "id": "a_gSTyfanEHx",
        "outputId": "553af4c6-ea75-4612-cb97-2c37ff61565d"
      },
      "execution_count": null,
      "outputs": [
        {
          "output_type": "execute_result",
          "data": {
            "text/plain": [
              "array([[1, 0, 0, 0],\n",
              "       [0, 1, 1, 1]])"
            ]
          },
          "metadata": {},
          "execution_count": 70
        }
      ]
    },
    {
      "cell_type": "code",
      "source": [
        "OR"
      ],
      "metadata": {
        "colab": {
          "base_uri": "https://localhost:8080/"
        },
        "id": "MMPzoVGOneeV",
        "outputId": "74b2bbc3-8ef1-45c6-d288-79f072d9587e"
      },
      "execution_count": null,
      "outputs": [
        {
          "output_type": "execute_result",
          "data": {
            "text/plain": [
              "array([[1, 0, 0, 0],\n",
              "       [0, 1, 1, 1]])"
            ]
          },
          "metadata": {},
          "execution_count": 71
        }
      ]
    },
    {
      "cell_type": "code",
      "source": [
        "NOT.dot(OR).dot(np.kron(NOT,NOT))"
      ],
      "metadata": {
        "colab": {
          "base_uri": "https://localhost:8080/"
        },
        "id": "yMI3HXyNnl_7",
        "outputId": "979c0394-0cae-4888-ec98-56366c02b098"
      },
      "execution_count": null,
      "outputs": [
        {
          "output_type": "execute_result",
          "data": {
            "text/plain": [
              "array([[1, 1, 1, 0],\n",
              "       [0, 0, 0, 1]])"
            ]
          },
          "metadata": {},
          "execution_count": 72
        }
      ]
    },
    {
      "cell_type": "code",
      "source": [
        "AND"
      ],
      "metadata": {
        "colab": {
          "base_uri": "https://localhost:8080/"
        },
        "id": "KiJSsIbqnwG_",
        "outputId": "fc044fd8-23a9-46e6-9ab0-a2add5d17117"
      },
      "execution_count": null,
      "outputs": [
        {
          "output_type": "execute_result",
          "data": {
            "text/plain": [
              "array([[1, 1, 1, 0],\n",
              "       [0, 0, 0, 1]])"
            ]
          },
          "metadata": {},
          "execution_count": 73
        }
      ]
    },
    {
      "cell_type": "markdown",
      "source": [
        "##### Calcule a matriz de transferência para um circuito somador com o carry out bit. X Y irá gerar Z e cOut. Z é X XOR Y e cOut é X AND Y"
      ],
      "metadata": {
        "id": "G4CDOj9dRaiQ"
      }
    },
    {
      "cell_type": "code",
      "source": [
        "import numpy as np\n",
        "k = np.kron\n",
        "XOR = np.array([[1,0,0,1],\n",
        "                [0,1,1,0]])\n",
        "AND = np.array(([1,1,1,0],\n",
        "                [0,0,0,1]))\n",
        "k(XOR,AND)"
      ],
      "metadata": {
        "colab": {
          "base_uri": "https://localhost:8080/"
        },
        "id": "ribgVlDRRfYK",
        "outputId": "2a6d2cb4-9de8-4cbd-c4d0-06f845e8e3a6"
      },
      "execution_count": null,
      "outputs": [
        {
          "output_type": "execute_result",
          "data": {
            "text/plain": [
              "array([[1, 1, 1, 0, 0, 0, 0, 0, 0, 0, 0, 0, 1, 1, 1, 0],\n",
              "       [0, 0, 0, 1, 0, 0, 0, 0, 0, 0, 0, 0, 0, 0, 0, 1],\n",
              "       [0, 0, 0, 0, 1, 1, 1, 0, 1, 1, 1, 0, 0, 0, 0, 0],\n",
              "       [0, 0, 0, 0, 0, 0, 0, 1, 0, 0, 0, 1, 0, 0, 0, 0]])"
            ]
          },
          "metadata": {},
          "execution_count": 1
        }
      ]
    },
    {
      "cell_type": "code",
      "source": [
        "def criaCompat(nbits,nvezes):\n",
        "  nlins = 2**(nbits*nvezes)\n",
        "  ncols = 2**nbits\n",
        "  compat = np.zeros(nlins*ncols).reshape(nlins,ncols)\n",
        "  for i in range(ncols):\n",
        "   formato = \"0\" + str(nbits) + \"b\"\n",
        "   binario = format(i,formato)*nvezes\n",
        "   decimal = int(binario,2)\n",
        "   compat[decimal,i] = 1\n",
        "  return(compat)\n",
        "\n",
        "criaCompat(2,2)"
      ],
      "metadata": {
        "colab": {
          "base_uri": "https://localhost:8080/"
        },
        "id": "G0jXtHi6kRil",
        "outputId": "8a687d55-7fe2-4f22-ae92-5115a6a35f47"
      },
      "execution_count": null,
      "outputs": [
        {
          "output_type": "execute_result",
          "data": {
            "text/plain": [
              "array([[1., 0., 0., 0.],\n",
              "       [0., 0., 0., 0.],\n",
              "       [0., 0., 0., 0.],\n",
              "       [0., 0., 0., 0.],\n",
              "       [0., 0., 0., 0.],\n",
              "       [0., 1., 0., 0.],\n",
              "       [0., 0., 0., 0.],\n",
              "       [0., 0., 0., 0.],\n",
              "       [0., 0., 0., 0.],\n",
              "       [0., 0., 0., 0.],\n",
              "       [0., 0., 1., 0.],\n",
              "       [0., 0., 0., 0.],\n",
              "       [0., 0., 0., 0.],\n",
              "       [0., 0., 0., 0.],\n",
              "       [0., 0., 0., 0.],\n",
              "       [0., 0., 0., 1.]])"
            ]
          },
          "metadata": {},
          "execution_count": 31
        }
      ]
    },
    {
      "cell_type": "code",
      "source": [
        "k(XOR,AND).dot(criaCompat(2,2))"
      ],
      "metadata": {
        "colab": {
          "base_uri": "https://localhost:8080/"
        },
        "id": "WWc7gsEJR8uh",
        "outputId": "fda43235-695d-483b-8d78-1ccfd04a2c1f"
      },
      "execution_count": null,
      "outputs": [
        {
          "output_type": "execute_result",
          "data": {
            "text/plain": [
              "array([[1., 0., 0., 0.],\n",
              "       [0., 0., 0., 1.],\n",
              "       [0., 1., 1., 0.],\n",
              "       [0., 0., 0., 0.]])"
            ]
          },
          "metadata": {},
          "execution_count": 33
        }
      ]
    },
    {
      "cell_type": "markdown",
      "source": [
        "##### A partir de três entradas c, x, y crie a representação matricial de um somador. Os dígitos são x e y e c é o carry-in. A saida deverá ser z e c' onde z é a soma e c' o carry out"
      ],
      "metadata": {
        "id": "_xxGuaeKhQ7D"
      }
    },
    {
      "cell_type": "markdown",
      "source": [
        "$ \\begin{bmatrix}\n",
        "c & x & y & z & c' \\\\\n",
        "0 & 0 & 0 & 0 & 0 \\\\\n",
        "0 & 0 & 1 & 1 & 0 \\\\\n",
        "0 & 1 & 0 & 1 & 0 \\\\\n",
        "0 & 1 & 1 & 0 & 1 \\\\\n",
        "1 & 0 & 0 & 1 & 0 \\\\\n",
        "1 & 0 & 1 & 0 & 1 \\\\\n",
        "1 & 1 & 0 & 0 & 1 \\\\\n",
        "1 & 1 & 1 & 1 & 1\n",
        "\\end{bmatrix}  $"
      ],
      "metadata": {
        "id": "ozw7S9k3loX2"
      }
    },
    {
      "cell_type": "code",
      "source": [
        "import numpy as np\n",
        "k = np.kron\n",
        "\n",
        "def criaCompat(nbits,nvezes):\n",
        "  nlins = 2**(nbits*nvezes)\n",
        "  ncols = 2**nbits\n",
        "  compat = np.zeros(nlins*ncols).reshape(nlins,ncols)\n",
        "  for i in range(ncols):\n",
        "   formato = \"0\" + str(nbits) + \"b\"\n",
        "   binario = format(i,formato)*nvezes\n",
        "   decimal = int(binario,2)\n",
        "   compat[decimal,i] = 1\n",
        "  return(compat)\n",
        "\n",
        "criaCompat(2,2)"
      ],
      "metadata": {
        "colab": {
          "base_uri": "https://localhost:8080/"
        },
        "id": "b1b-XE2Qw5V4",
        "outputId": "7f76b466-b31c-4051-8206-4eb0a085b038"
      },
      "execution_count": null,
      "outputs": [
        {
          "output_type": "execute_result",
          "data": {
            "text/plain": [
              "array([[1., 0., 0., 0.],\n",
              "       [0., 0., 0., 0.],\n",
              "       [0., 0., 0., 0.],\n",
              "       [0., 0., 0., 0.],\n",
              "       [0., 0., 0., 0.],\n",
              "       [0., 1., 0., 0.],\n",
              "       [0., 0., 0., 0.],\n",
              "       [0., 0., 0., 0.],\n",
              "       [0., 0., 0., 0.],\n",
              "       [0., 0., 0., 0.],\n",
              "       [0., 0., 1., 0.],\n",
              "       [0., 0., 0., 0.],\n",
              "       [0., 0., 0., 0.],\n",
              "       [0., 0., 0., 0.],\n",
              "       [0., 0., 0., 0.],\n",
              "       [0., 0., 0., 1.]])"
            ]
          },
          "metadata": {},
          "execution_count": 1
        }
      ]
    },
    {
      "cell_type": "code",
      "source": [
        "NOT = np.array([[0,1],\n",
        "                [1,0]])\n",
        "\n",
        "AND3 = np.array([[1,1,1,1,1,1,1,0],\n",
        "                 [0,0,0,0,0,0,0,1]])\n",
        "\n",
        "OR4 = np.array([[1,0,0,0,0,0,0,0,0,0,0,0,0,0,0,0],\n",
        "                [0,1,1,1,1,1,1,1,1,1,1,1,1,1,1,1]])\n",
        "\n",
        "I2 = np.array([[1,0],\n",
        "               [0,1]])\n",
        "\n",
        "t1z = k(NOT,k(NOT,I2))\n",
        "t2z = k(NOT,k(I2,NOT))\n",
        "t3z = k(I2,k(NOT,NOT))\n",
        "t4z = k(I2,k(I2,I2))\n",
        "ORz = k(AND3,k(AND3,k(AND3,AND3)))\n",
        "ORz = OR4.dot(ORz).dot(k(t1z,k(t2z,k(t3z,t4z))))\n",
        "\n",
        "t1c = k(NOT,k(I2,I2))\n",
        "t2c = k(I2,k(NOT,I2))\n",
        "t3c = k(I2,k(I2,NOT))\n",
        "t4c = k(I2,k(I2,I2))\n",
        "ORc = k(AND3,k(AND3,k(AND3,AND3)))\n",
        "ORc = OR4.dot(ORc).dot(k(t1c,k(t2c,k(t3c,t4c))))\n",
        "\n",
        "compat = criaCompat(3,8)\n",
        "k(ORz,ORc).dot(compat)"
      ],
      "metadata": {
        "colab": {
          "base_uri": "https://localhost:8080/"
        },
        "id": "FOm2y_Ds09-N",
        "outputId": "fd4edf1e-d092-4d29-82a2-d96387543e25"
      },
      "execution_count": null,
      "outputs": [
        {
          "output_type": "execute_result",
          "data": {
            "text/plain": [
              "array([[1., 0., 0., 0., 0., 0., 0., 0.],\n",
              "       [0., 0., 0., 1., 0., 1., 1., 0.],\n",
              "       [0., 1., 1., 0., 1., 0., 0., 0.],\n",
              "       [0., 0., 0., 0., 0., 0., 0., 1.]])"
            ]
          },
          "metadata": {},
          "execution_count": 10
        }
      ]
    },
    {
      "cell_type": "markdown",
      "source": [
        "##### Prove através de matrizes que o TOFFOLI gate é sua própria inversa"
      ],
      "metadata": {
        "id": "f00zjAKEDBf1"
      }
    },
    {
      "cell_type": "code",
      "source": [
        "import numpy as np\n",
        "TOFFOLI = np.array([[1,0,0,0,0,0,0,0],\n",
        "                    [0,1,0,0,0,0,0,0],\n",
        "                    [0,0,1,0,0,0,0,0],\n",
        "                    [0,0,0,1,0,0,0,0],\n",
        "                    [0,0,0,0,1,0,0,0],\n",
        "                    [0,0,0,0,0,1,0,0],\n",
        "                    [0,0,0,0,0,0,0,1],\n",
        "                    [0,0,0,0,0,0,1,0]])\n",
        "TOFFOLI.dot(TOFFOLI)"
      ],
      "metadata": {
        "colab": {
          "base_uri": "https://localhost:8080/"
        },
        "id": "6HzZmFqMDHng",
        "outputId": "b70bbfac-eab5-4288-f148-844e873d4be4"
      },
      "execution_count": null,
      "outputs": [
        {
          "output_type": "execute_result",
          "data": {
            "text/plain": [
              "array([[1, 0, 0, 0, 0, 0, 0, 0],\n",
              "       [0, 1, 0, 0, 0, 0, 0, 0],\n",
              "       [0, 0, 1, 0, 0, 0, 0, 0],\n",
              "       [0, 0, 0, 1, 0, 0, 0, 0],\n",
              "       [0, 0, 0, 0, 1, 0, 0, 0],\n",
              "       [0, 0, 0, 0, 0, 1, 0, 0],\n",
              "       [0, 0, 0, 0, 0, 0, 1, 0],\n",
              "       [0, 0, 0, 0, 0, 0, 0, 1]])"
            ]
          },
          "metadata": {},
          "execution_count": 12
        }
      ]
    },
    {
      "cell_type": "markdown",
      "source": [
        "##### Criar uma matriz de transferência para um circuito que recebe três entradas X, Y e Z e gera uma saida com três estados X, Y e Z=1"
      ],
      "metadata": {
        "id": "esSMH1DwOdNV"
      }
    },
    {
      "cell_type": "code",
      "source": [
        "Z1 = np.array([[0,0,0,0,0,0,0,0],\n",
        "               [0,1,0,0,0,0,0,0],\n",
        "               [0,0,0,0,0,0,0,0],\n",
        "               [0,0,0,1,0,0,0,0],\n",
        "               [0,0,0,0,0,0,0,0],\n",
        "               [0,0,0,0,0,1,0,0],\n",
        "               [0,0,0,0,0,0,0,0],\n",
        "               [0,0,0,0,0,0,0,1]])\n",
        "Z1"
      ],
      "metadata": {
        "colab": {
          "base_uri": "https://localhost:8080/"
        },
        "id": "NDuF945vHOxP",
        "outputId": "35ba705e-01ec-40b0-9340-c5e5aeb38d7c"
      },
      "execution_count": null,
      "outputs": [
        {
          "output_type": "execute_result",
          "data": {
            "text/plain": [
              "array([[0, 0, 0, 0, 0, 0, 0, 0],\n",
              "       [0, 1, 0, 0, 0, 0, 0, 0],\n",
              "       [0, 0, 0, 0, 0, 0, 0, 0],\n",
              "       [0, 0, 0, 1, 0, 0, 0, 0],\n",
              "       [0, 0, 0, 0, 0, 0, 0, 0],\n",
              "       [0, 0, 0, 0, 0, 1, 0, 0],\n",
              "       [0, 0, 0, 0, 0, 0, 0, 0],\n",
              "       [0, 0, 0, 0, 0, 0, 0, 1]])"
            ]
          },
          "metadata": {},
          "execution_count": 51
        }
      ]
    },
    {
      "cell_type": "markdown",
      "source": [
        "##### Criar uma matriz de transferência para um circuito que recebe duas entradas X, Y e gera três saidas X, Y e Z=1"
      ],
      "metadata": {
        "id": "8kYgfEZZPPcZ"
      }
    },
    {
      "cell_type": "code",
      "source": [
        "Z1I4 = np.array([[0,0,0,0],\n",
        "                 [1,0,0,0],\n",
        "                 [0,0,0,0],\n",
        "                 [0,1,0,0],\n",
        "                 [0,0,0,0],\n",
        "                 [0,0,1,0],\n",
        "                 [0,0,0,0],\n",
        "                 [0,0,0,1]])\n",
        "TOFFOLI.dot(ZpY).dot(TOFFOLI).dot(Z1I4)"
      ],
      "metadata": {
        "colab": {
          "base_uri": "https://localhost:8080/"
        },
        "id": "jTvtfgQKEY3t",
        "outputId": "5c0eddd6-5548-4267-81a2-c6bbca706fa7"
      },
      "execution_count": null,
      "outputs": [
        {
          "output_type": "execute_result",
          "data": {
            "text/plain": [
              "array([[0., 0., 0., 0.],\n",
              "       [0., 0., 0., 0.],\n",
              "       [1., 0., 0., 0.],\n",
              "       [0., 1., 0., 0.],\n",
              "       [0., 0., 0., 0.],\n",
              "       [0., 0., 0., 1.],\n",
              "       [0., 0., 0., 0.],\n",
              "       [0., 0., 1., 0.]])"
            ]
          },
          "metadata": {},
          "execution_count": 54
        }
      ]
    },
    {
      "cell_type": "markdown",
      "source": [
        "##### Criar uma matriz de transferência para um circuito que recebe três entradas X, Y, Z e cria uma saida igual a X, Z, Y (isto é, inverte duas das entradas)"
      ],
      "metadata": {
        "id": "GVuYdxlVOvsX"
      }
    },
    {
      "cell_type": "code",
      "source": [
        "ZpY = np.zeros([8,8])\n",
        "ZpY[0,0] = 1; ZpY[1,2] = 1; ZpY[2,1] = 1; ZpY[3,3] = 1\n",
        "ZpY[4,4] = 1; ZpY[5,6] = 1; ZpY[6,5] = 1; ZpY[7,7] = 1\n",
        "ZpY"
      ],
      "metadata": {
        "colab": {
          "base_uri": "https://localhost:8080/"
        },
        "id": "MDu9I8obH2Kv",
        "outputId": "800eef92-d17c-4816-b17e-eba0be894b91"
      },
      "execution_count": null,
      "outputs": [
        {
          "output_type": "execute_result",
          "data": {
            "text/plain": [
              "array([[1., 0., 0., 0., 0., 0., 0., 0.],\n",
              "       [0., 0., 1., 0., 0., 0., 0., 0.],\n",
              "       [0., 1., 0., 0., 0., 0., 0., 0.],\n",
              "       [0., 0., 0., 1., 0., 0., 0., 0.],\n",
              "       [0., 0., 0., 0., 1., 0., 0., 0.],\n",
              "       [0., 0., 0., 0., 0., 0., 1., 0.],\n",
              "       [0., 0., 0., 0., 0., 1., 0., 0.],\n",
              "       [0., 0., 0., 0., 0., 0., 0., 1.]])"
            ]
          },
          "metadata": {},
          "execution_count": 52
        }
      ]
    },
    {
      "cell_type": "markdown",
      "source": [
        "##### Criar uma matriz de transferência de um circuito que recebe três entradas X, Y, Z e gera uma saida igual a Z. (o digito menos significativo)"
      ],
      "metadata": {
        "id": "17eC7VutPZLu"
      }
    },
    {
      "cell_type": "code",
      "source": [
        "Zfim = np.array([[1,0,1,0,1,0,1,0],\n",
        "                 [0,1,0,1,0,1,0,1]])"
      ],
      "metadata": {
        "id": "ZYSJfjAANsZF"
      },
      "execution_count": null,
      "outputs": []
    },
    {
      "cell_type": "markdown",
      "source": [
        "##### Mostrar que circuito formado pela sequência abaixo gera na prática a operação lógica X OR Y = Z:\n",
        "a) Duas entradas X, Y\n",
        "b) Um gate que recebe X, Y e gera X, Y e Z=1\n",
        "c) Um gate Toffoli (X e Y controle, Z target)\n",
        "d) Um gate que recebe X, Y, Z e gera X, Z, Y\n",
        "e) Um gate Toffoli (idem anterior)\n",
        "f) Um gate que recebe X, Y e Z e gera uma saida igual a Z\n"
      ],
      "metadata": {
        "id": "msgcQHcRQC7E"
      }
    },
    {
      "cell_type": "code",
      "source": [
        "Zfim.dot(TOFFOLI).dot(ZpY).dot(TOFFOLI).dot(Z1I4)"
      ],
      "metadata": {
        "colab": {
          "base_uri": "https://localhost:8080/"
        },
        "id": "r9n1TfytN360",
        "outputId": "80672f6d-22d6-46fb-c550-761e584861d7"
      },
      "execution_count": null,
      "outputs": [
        {
          "output_type": "execute_result",
          "data": {
            "text/plain": [
              "array([[1., 0., 0., 0.],\n",
              "       [0., 1., 1., 1.]])"
            ]
          },
          "metadata": {},
          "execution_count": 60
        }
      ]
    },
    {
      "cell_type": "markdown",
      "source": [
        "##### Mostrar que um gate Fredkin é sua própria inversa. Um gate Fredkin tem três entradas X, Y, Z e três saidas X', Y' e Z'. X'= X sempre. Quando X=0, Y'=Y e Z'=Z. Quando X=1, Y e Z tem seus valores invertidos, isto é Y'=Z e Z'=Y"
      ],
      "metadata": {
        "id": "w0DCn9z8Spgi"
      }
    },
    {
      "cell_type": "code",
      "source": [
        "import numpy as np\n",
        "fred = np.identity(8)\n",
        "fred[5,5] = 0; fred[5,6] = 1\n",
        "fred[6,5] = 1; fred[6,6] = 0\n",
        "fred"
      ],
      "metadata": {
        "colab": {
          "base_uri": "https://localhost:8080/"
        },
        "id": "keyDCUOqTLvH",
        "outputId": "ec734537-7f6b-47a4-b1db-d7ab878847c8"
      },
      "execution_count": null,
      "outputs": [
        {
          "output_type": "execute_result",
          "data": {
            "text/plain": [
              "array([[1., 0., 0., 0., 0., 0., 0., 0.],\n",
              "       [0., 1., 0., 0., 0., 0., 0., 0.],\n",
              "       [0., 0., 1., 0., 0., 0., 0., 0.],\n",
              "       [0., 0., 0., 1., 0., 0., 0., 0.],\n",
              "       [0., 0., 0., 0., 1., 0., 0., 0.],\n",
              "       [0., 0., 0., 0., 0., 0., 1., 0.],\n",
              "       [0., 0., 0., 0., 0., 1., 0., 0.],\n",
              "       [0., 0., 0., 0., 0., 0., 0., 1.]])"
            ]
          },
          "metadata": {},
          "execution_count": 61
        }
      ]
    },
    {
      "cell_type": "code",
      "source": [
        "fred.dot(fred)"
      ],
      "metadata": {
        "colab": {
          "base_uri": "https://localhost:8080/"
        },
        "id": "Uurrxj3NUcEo",
        "outputId": "5cc89457-0c29-4428-f460-9b6d27df03dc"
      },
      "execution_count": null,
      "outputs": [
        {
          "output_type": "execute_result",
          "data": {
            "text/plain": [
              "array([[1., 0., 0., 0., 0., 0., 0., 0.],\n",
              "       [0., 1., 0., 0., 0., 0., 0., 0.],\n",
              "       [0., 0., 1., 0., 0., 0., 0., 0.],\n",
              "       [0., 0., 0., 1., 0., 0., 0., 0.],\n",
              "       [0., 0., 0., 0., 1., 0., 0., 0.],\n",
              "       [0., 0., 0., 0., 0., 1., 0., 0.],\n",
              "       [0., 0., 0., 0., 0., 0., 1., 0.],\n",
              "       [0., 0., 0., 0., 0., 0., 0., 1.]])"
            ]
          },
          "metadata": {},
          "execution_count": 62
        }
      ]
    },
    {
      "cell_type": "markdown",
      "source": [
        "##### Crie uma matriz de transferência para um gate de duas entradas XZ e três saidas XYZ, onde Y=0"
      ],
      "metadata": {
        "id": "NbB57ROyaK3g"
      }
    },
    {
      "cell_type": "code",
      "source": [
        "import numpy as np\n",
        "Fy0 = np.zeros([8,4])\n",
        "Fy0[0,0] = 1; Fy0[1,1] = 1; Fy0[4,2] = 1; Fy0[5,3] = 1\n",
        "Fy0"
      ],
      "metadata": {
        "colab": {
          "base_uri": "https://localhost:8080/"
        },
        "id": "jd9zx5lfasnj",
        "outputId": "51f211ce-7627-4e26-d9e7-f49b5dbc8ee5"
      },
      "execution_count": null,
      "outputs": [
        {
          "output_type": "execute_result",
          "data": {
            "text/plain": [
              "array([[1., 0., 0., 0.],\n",
              "       [0., 1., 0., 0.],\n",
              "       [0., 0., 0., 0.],\n",
              "       [0., 0., 0., 0.],\n",
              "       [0., 0., 1., 0.],\n",
              "       [0., 0., 0., 1.],\n",
              "       [0., 0., 0., 0.],\n",
              "       [0., 0., 0., 0.]])"
            ]
          },
          "metadata": {},
          "execution_count": 63
        }
      ]
    },
    {
      "cell_type": "markdown",
      "source": [
        "##### Crie uma matriz de transferência a qual recebe três entradas XYZ e devolve uma saida igual a Y (o segundo dígito mais significativo)"
      ],
      "metadata": {
        "id": "L5Yf_7rCbOT1"
      }
    },
    {
      "cell_type": "code",
      "source": [
        "xYz = np.array([[1,1,0,0,1,1,0,0],\n",
        "                [0,0,1,1,0,0,1,1]])"
      ],
      "metadata": {
        "id": "o5NAIPdTbNgo"
      },
      "execution_count": null,
      "outputs": []
    },
    {
      "cell_type": "markdown",
      "source": [
        "##### Mostre que as três matrizes anteriores fazem com que o Fredkin gate gere a operação Y' = X AND Z"
      ],
      "metadata": {
        "id": "5NGpg49zbivF"
      }
    },
    {
      "cell_type": "code",
      "source": [
        "xYz.dot(fred).dot(Fy0)"
      ],
      "metadata": {
        "colab": {
          "base_uri": "https://localhost:8080/"
        },
        "id": "exngWF9NbwbY",
        "outputId": "abe459f5-e7cd-485e-8497-b76c70f84fdc"
      },
      "execution_count": null,
      "outputs": [
        {
          "output_type": "execute_result",
          "data": {
            "text/plain": [
              "array([[1., 1., 1., 0.],\n",
              "       [0., 0., 0., 1.]])"
            ]
          },
          "metadata": {},
          "execution_count": 66
        }
      ]
    }
  ]
}