{
  "nbformat": 4,
  "nbformat_minor": 0,
  "metadata": {
    "colab": {
      "provenance": [],
      "collapsed_sections": [
        "sW7UgQCBRyQw",
        "VV3eX9ovB9mm",
        "VNL6W8InCJwH",
        "15vW4PaICzMM",
        "Z-Ew407NC9ja",
        "MHUXwokxDVw5",
        "UKM9qKSADnW6",
        "S2eJQMotDqpw",
        "oir8ORAJPpbu",
        "q6CKyAjZExhB",
        "4ocGrhlWiWIf",
        "v3UqkrjBQNpm",
        "WiU5MCxkVRFn",
        "iXLV4XrNmv3P",
        "SvVZ5cDuxVpq",
        "kiCk9ste2kEp",
        "Ptc148gj5-yM",
        "eapieNWAAmwi",
        "ytG9GpwxO92b",
        "9MagSZ19UCn-",
        "sUWvvOG1JA4p",
        "oafuF4Woxzfn",
        "to7XEAQG-TeN",
        "0wMhivx2ZcKK",
        "YwgtKJNeUgce",
        "IBHGIBs-chJ4",
        "wLjxgdx-pjFa",
        "2D5Xgh1pCqkw",
        "Id1_8joHHF1R",
        "MG4KkBKXccmh",
        "akkdxEaqI6E-",
        "fSAcu_1CxpTf",
        "eT58FeMdKNB4",
        "MGJ6o50INzVc",
        "ZTbai-XW8rJv",
        "-NHN7Bhe-5Vm",
        "74orZ86E-_Dd",
        "dZHO-jrv_DkH",
        "6un9f7n7_m1h",
        "-goLmNeMQS5j",
        "rgApWdmDR0_6",
        "6v9XWEJwSpbd",
        "iHZnCzcHgvlG",
        "ShXnWwZxhBHa",
        "G4CDOj9dRaiQ",
        "_xxGuaeKhQ7D",
        "f00zjAKEDBf1",
        "esSMH1DwOdNV",
        "8kYgfEZZPPcZ",
        "GVuYdxlVOvsX",
        "17eC7VutPZLu",
        "msgcQHcRQC7E",
        "w0DCn9z8Spgi",
        "NbB57ROyaK3g",
        "L5Yf_7rCbOT1",
        "5NGpg49zbivF",
        "n7_t5GFMJuUu",
        "YIKtbAUf6vgz",
        "gCDxt_iUTnaT",
        "e-etkHt80C88",
        "3wTSvE6307_I",
        "jVXS820b0MXH",
        "vs0gUv1_0cxt",
        "fq053ufO0sHF",
        "CJrKy34yTzL2",
        "heLe5LaUuri4",
        "BecRJl3d1P76",
        "1FDtHZxNuOcG",
        "48OFgjtauiMO",
        "V9VbEDWOu92x",
        "rIm0cRaEvULT",
        "VbfKm6javeWb",
        "OzS1Svbq7jFs",
        "vJJUVyxM76WV",
        "EUqwY5N88U6u",
        "p7EEc0y-87vv",
        "QubQJSU1-Wxy",
        "yTMmCaQxXCSx",
        "uI2eavuPr-t-",
        "jLutxRBaR_M0",
        "zaeTfdrdx_nX",
        "Y1unh1voF3Y-",
        "KnOau2_XGlu_",
        "N0RPCz4uIU46",
        "Y4nRvlBMLCYk",
        "nEw0BFT6FX-V",
        "SvYkYYlPpJyh",
        "1hijUpTVpuCz",
        "7BGZrQGcqEGS",
        "zMhhS_iRq-AK",
        "5ibJQU5Zr2ps",
        "nmfGSC_3Jgmu",
        "BI-L3c_5J0iW",
        "F40kMbYFKBUh",
        "Q10FtS93cIE_",
        "ItvjCTx3PgZm",
        "amUC3Wc8FQm5",
        "9HIdHPdawN0o",
        "8NfADmgHoJpH",
        "oY1u9FGH3ede",
        "APQMlSsDwd3f",
        "cZp76jVZNInK",
        "eBV5luoh_lRe",
        "15uOBDwm_cs9",
        "0KZnJR3_h4Gx",
        "T9x2pcGvkeNP",
        "zvXsjA6iopHP",
        "6mZDq-zEu-Zs",
        "D68JObqavGGS",
        "skJ_bWG9Rcmc",
        "mrapECCuD4US",
        "Pf5aV6vAYg_n",
        "onbvRcz1YsJq",
        "rBeuRW6OKQWa",
        "RG28afA4QCNP",
        "BoAcjzvXRY2n",
        "XE8-dMvQUoDG"
      ]
    },
    "kernelspec": {
      "display_name": "Python 3 (ipykernel)",
      "language": "python",
      "name": "python3"
    },
    "language_info": {
      "codemirror_mode": {
        "name": "ipython",
        "version": 3
      },
      "file_extension": ".py",
      "mimetype": "text/x-python",
      "name": "python",
      "nbconvert_exporter": "python",
      "pygments_lexer": "ipython3",
      "version": "3.8.10"
    }
  },
  "cells": [
    {
      "cell_type": "markdown",
      "source": [
        "#### **Quantum Computing with Matrices Exercises**"
      ],
      "metadata": {
        "id": "IBHGIBs-chJ4"
      }
    },
    {
      "cell_type": "markdown",
      "source": [
        "##### **Ex.1:Write $V = \\begin{bmatrix} 3+2i \\\\ 4-2i \\end{bmatrix}$ as a sum of $|0\\rangle$ and $|1 \\rangle$**"
      ],
      "metadata": {
        "id": "wLjxgdx-pjFa"
      }
    },
    {
      "cell_type": "markdown",
      "source": [
        "To create a state $|\\psi\\rangle$ equivalent to the state $V$ above we need to normalize it. Remember that for $|\\psi\\rangle = a|0\\rangle + b|1\\rangle$ to represent a qubit vector state, $|a|^2+|b|^2=1$."
      ],
      "metadata": {
        "id": "Glk7n-bBdKcH"
      }
    },
    {
      "cell_type": "markdown",
      "source": [
        "Also, remember that if $a$ is a complex number like $a = 3+4.i$, its module $|a|$ is calculated by $|a|^2 = a^*.a = (3-4i).(3+4i) = 25$. Therefore $|a|=5$. $a^*$ is the complex conjugate of $a$"
      ],
      "metadata": {
        "id": "yB0-IygTg6Ao"
      }
    },
    {
      "cell_type": "code",
      "source": [
        "import numpy as np\n",
        "\n",
        "V = np.array([[3+2j],[4-2j]])\n",
        "modV = np.real(V.T.conjugate().dot(V)[0,0])**0.5\n",
        "Vn = V/modV; Vn"
      ],
      "metadata": {
        "colab": {
          "base_uri": "https://localhost:8080/"
        },
        "id": "CJ_iA9pYdvzA",
        "outputId": "1bf9840e-eb97-440b-c96d-546130055f88"
      },
      "execution_count": null,
      "outputs": [
        {
          "output_type": "execute_result",
          "data": {
            "text/plain": [
              "array([[0.522+0.348j],\n",
              "       [0.696-0.348j]])"
            ]
          },
          "metadata": {},
          "execution_count": 217
        }
      ]
    },
    {
      "cell_type": "code",
      "source": [
        "v0 = np.array([[1,0]]).T\n",
        "v1 = np.array([[0,1]]).T\n",
        "Vn[0,0]*v0 + Vn[1,0]*v1"
      ],
      "metadata": {
        "colab": {
          "base_uri": "https://localhost:8080/"
        },
        "id": "QjiJtuIzfnJw",
        "outputId": "f4dc238f-341d-4986-80b0-2756b1cfd20e"
      },
      "execution_count": null,
      "outputs": [
        {
          "output_type": "execute_result",
          "data": {
            "text/plain": [
              "array([[0.522+0.348j],\n",
              "       [0.696-0.348j]])"
            ]
          },
          "metadata": {},
          "execution_count": 218
        }
      ]
    },
    {
      "cell_type": "markdown",
      "source": [
        "The quantum circuit below represents this state."
      ],
      "metadata": {
        "id": "5Zb346nXdrMB"
      }
    },
    {
      "cell_type": "code",
      "source": [
        "import qiskit as qk\n",
        "\n",
        "qr = qk.QuantumRegister(1,'q')\n",
        "cr = qk.ClassicalRegister(1,'c')\n",
        "qc = qk.QuantumCircuit(qr,cr)\n",
        "qc.initialize([Vn[0,0],Vn[1,0]],0)\n",
        "qc.measure(qr[0],cr[0])\n",
        "qc.draw('mpl', style=\"clifford\")"
      ],
      "metadata": {
        "colab": {
          "base_uri": "https://localhost:8080/",
          "height": 191
        },
        "id": "P7Z4rEmtikaI",
        "outputId": "db748f9b-8848-455a-8c24-7bcc41a62697"
      },
      "execution_count": null,
      "outputs": [
        {
          "output_type": "execute_result",
          "data": {
            "text/plain": [
              "<Figure size 436.286x200.667 with 1 Axes>"
            ],
            "image/png": "[encoded data removed]"
          },
          "metadata": {},
          "execution_count": 219
        }
      ]
    },
    {
      "cell_type": "code",
      "source": [
        "backend = qk.Aer.get_backend('statevector_simulator')\n",
        "results = qk.execute(qc,backend,shots=10000).result().get_counts()\n",
        "qk.visualization.plot_distribution(results)"
      ],
      "metadata": {
        "colab": {
          "base_uri": "https://localhost:8080/",
          "height": 449
        },
        "id": "TdLGDnDDjWVW",
        "outputId": "f4670ed8-6661-47e3-aebf-5a4606efd9d0"
      },
      "execution_count": null,
      "outputs": [
        {
          "output_type": "execute_result",
          "data": {
            "text/plain": [
              "<Figure size 700x500 with 1 Axes>"
            ],
            "image/png": "[encoded data removed]"
          },
          "metadata": {},
          "execution_count": 220
        }
      ]
    },
    {
      "cell_type": "markdown",
      "source": [
        "Let's confirm the probabilities calculating them from the state $V$ normalized amplitudes."
      ],
      "metadata": {
        "id": "6vPmM9X2j567"
      }
    },
    {
      "cell_type": "code",
      "source": [
        "Vn[0,0].conjugate()*Vn[0,0]"
      ],
      "metadata": {
        "colab": {
          "base_uri": "https://localhost:8080/"
        },
        "id": "8ywf-hVQkDSg",
        "outputId": "fd87e4d1-4ada-43f6-bb5b-6a65b7f6d44a"
      },
      "execution_count": null,
      "outputs": [
        {
          "output_type": "execute_result",
          "data": {
            "text/plain": [
              "(0.39393939393939403+0j)"
            ]
          },
          "metadata": {},
          "execution_count": 74
        }
      ]
    },
    {
      "cell_type": "code",
      "source": [
        "Vn[1,0].conjugate()*Vn[1,0]"
      ],
      "metadata": {
        "colab": {
          "base_uri": "https://localhost:8080/"
        },
        "outputId": "9552cd34-e63a-4630-b061-18feb0c6e3b8",
        "id": "2NHkl48Qkr4p"
      },
      "execution_count": null,
      "outputs": [
        {
          "output_type": "execute_result",
          "data": {
            "text/plain": [
              "(0.6060606060606062+0j)"
            ]
          },
          "metadata": {},
          "execution_count": 75
        }
      ]
    },
    {
      "cell_type": "markdown",
      "source": [
        "##### **Ex.2: Using matrices, prove that the CNOT gate is its own inverse. Do the same for the Hadamard gate**"
      ],
      "metadata": {
        "id": "2D5Xgh1pCqkw"
      }
    },
    {
      "cell_type": "code",
      "source": [
        "import numpy as np\n",
        "CNOT = np.array([[1,0,0,0],\n",
        "                 [0,1,0,0],\n",
        "                 [0,0,0,1],\n",
        "                 [0,0,1,0]])\n",
        "CNOT.dot(CNOT)"
      ],
      "metadata": {
        "colab": {
          "base_uri": "https://localhost:8080/"
        },
        "id": "gIv3HpSmCww7",
        "outputId": "2f612b8c-fc26-4e19-9d3a-52094ebee300"
      },
      "execution_count": null,
      "outputs": [
        {
          "output_type": "execute_result",
          "data": {
            "text/plain": [
              "array([[1, 0, 0, 0],\n",
              "       [0, 1, 0, 0],\n",
              "       [0, 0, 1, 0],\n",
              "       [0, 0, 0, 1]])"
            ]
          },
          "metadata": {},
          "execution_count": 11
        }
      ]
    },
    {
      "cell_type": "code",
      "source": [
        "import numpy as np\n",
        "H = np.array([[1,1],[1,-1]])/2**0.5\n",
        "H.dot(H)"
      ],
      "metadata": {
        "colab": {
          "base_uri": "https://localhost:8080/"
        },
        "id": "mnpeGy00ppys",
        "outputId": "81f83807-6ec0-42f2-85a2-3daf2222e3b1"
      },
      "execution_count": null,
      "outputs": [
        {
          "output_type": "execute_result",
          "data": {
            "text/plain": [
              "array([[ 1., -0.],\n",
              "       [-0.,  1.]])"
            ]
          },
          "metadata": {},
          "execution_count": 98
        }
      ]
    },
    {
      "cell_type": "markdown",
      "source": [
        "To check this result let's draw the histogram of 10.000 shots of each of these three circuits."
      ],
      "metadata": {
        "id": "W853rn_zoyuf"
      }
    },
    {
      "cell_type": "code",
      "source": [
        "import qiskit as qk\n",
        "\n",
        "qr = qk.QuantumRegister(2,'q')\n",
        "cr = qk.ClassicalRegister(2,'c')\n",
        "qc = qk.QuantumCircuit(qr,cr)\n",
        "qc.initialize([1,0],0)\n",
        "qc.initialize([1,0],1)\n",
        "qc.measure(qr,cr)\n",
        "qc.draw('mpl')"
      ],
      "metadata": {
        "colab": {
          "base_uri": "https://localhost:8080/",
          "height": 185
        },
        "id": "aPrqcSTQolte",
        "outputId": "feb4fa14-c263-4226-ce65-92d9411e1727"
      },
      "execution_count": null,
      "outputs": [
        {
          "output_type": "execute_result",
          "data": {
            "text/plain": [
              "<Figure size 267.052x204.68 with 1 Axes>"
            ],
            "image/png": "[encoded data removed]"
          },
          "metadata": {},
          "execution_count": 95
        }
      ]
    },
    {
      "cell_type": "code",
      "source": [
        "simulator = qk.Aer.get_backend('statevector_simulator')\n",
        "results = qk.execute(qc,simulator,shots=10000).result().get_counts()\n",
        "qk.visualization.plot_histogram(results)"
      ],
      "metadata": {
        "colab": {
          "base_uri": "https://localhost:8080/",
          "height": 331
        },
        "id": "v6V7wyKgoqOw",
        "outputId": "4ed19516-730c-49ea-c960-dc64febd906a"
      },
      "execution_count": null,
      "outputs": [
        {
          "output_type": "execute_result",
          "data": {
            "text/plain": [
              "<Figure size 504x360 with 1 Axes>"
            ],
            "image/png": "[encoded data removed]"
          },
          "metadata": {},
          "execution_count": 96
        }
      ]
    },
    {
      "cell_type": "code",
      "source": [
        "import qiskit as qk\n",
        "\n",
        "qr = qk.QuantumRegister(2,'q')\n",
        "cr = qk.ClassicalRegister(2,'c')\n",
        "qc = qk.QuantumCircuit(qr,cr)\n",
        "qc.initialize([1,0],0)\n",
        "qc.initialize([1,0],1)\n",
        "qc.h(0)\n",
        "qc.measure(qr,cr)\n",
        "qc.draw('mpl')"
      ],
      "metadata": {
        "colab": {
          "base_uri": "https://localhost:8080/",
          "height": 185
        },
        "id": "hej5U1MboB6X",
        "outputId": "5bb725c8-b103-40be-dfe0-3df056aa370e"
      },
      "execution_count": null,
      "outputs": [
        {
          "output_type": "execute_result",
          "data": {
            "text/plain": [
              "<Figure size 267.052x204.68 with 1 Axes>"
            ],
            "image/png": "[encoded data removed]"
          },
          "metadata": {},
          "execution_count": 87
        }
      ]
    },
    {
      "cell_type": "code",
      "source": [
        "simulator = qk.Aer.get_backend('statevector_simulator')\n",
        "results = qk.execute(qc,simulator,shots=10000).result().get_counts()\n",
        "qk.visualization.plot_histogram(results)"
      ],
      "metadata": {
        "colab": {
          "base_uri": "https://localhost:8080/",
          "height": 332
        },
        "id": "RLfY7Fl6oGMF",
        "outputId": "c8185f71-492d-43e7-a321-d83be3e74813"
      },
      "execution_count": null,
      "outputs": [
        {
          "output_type": "execute_result",
          "data": {
            "text/plain": [
              "<Figure size 504x360 with 1 Axes>"
            ],
            "image/png": "[encoded data removed]"
          },
          "metadata": {},
          "execution_count": 88
        }
      ]
    },
    {
      "cell_type": "code",
      "source": [
        "import qiskit as qk\n",
        "\n",
        "qr = qk.QuantumRegister(2,'q')\n",
        "cr = qk.ClassicalRegister(2,'c')\n",
        "qc = qk.QuantumCircuit(qr,cr)\n",
        "qc.initialize([1,0],0)\n",
        "qc.initialize([1,0],1)\n",
        "qc.h(0)\n",
        "qc.cnot(qr[0],qr[1])\n",
        "qc.measure(qr,cr)\n",
        "qc.draw('mpl')"
      ],
      "metadata": {
        "colab": {
          "base_uri": "https://localhost:8080/",
          "height": 185
        },
        "id": "dGvzI3tDmfev",
        "outputId": "8dda9b3c-bd1c-4108-f551-8038bc395acd"
      },
      "execution_count": null,
      "outputs": [
        {
          "output_type": "execute_result",
          "data": {
            "text/plain": [
              "<Figure size 387.452x204.68 with 1 Axes>"
            ],
            "image/png": "[encoded data removed]"
          },
          "metadata": {},
          "execution_count": 89
        }
      ]
    },
    {
      "cell_type": "code",
      "source": [
        "simulator = qk.Aer.get_backend('statevector_simulator')\n",
        "results = qk.execute(qc,simulator,shots=10000).result().get_counts()\n",
        "qk.visualization.plot_histogram(results)"
      ],
      "metadata": {
        "colab": {
          "base_uri": "https://localhost:8080/",
          "height": 333
        },
        "id": "e43KbYZlnMlm",
        "outputId": "e982a4e2-3da8-4865-c5a6-b4ecb9b53b20"
      },
      "execution_count": null,
      "outputs": [
        {
          "output_type": "execute_result",
          "data": {
            "text/plain": [
              "<Figure size 504x360 with 1 Axes>"
            ],
            "image/png": "[encoded data removed]"
          },
          "metadata": {},
          "execution_count": 90
        }
      ]
    },
    {
      "cell_type": "markdown",
      "source": [
        "Now let's apply the gates in reverse order and see that the histograms repeat themselves (in reverse order also)"
      ],
      "metadata": {
        "id": "sbrk8zn7pIyy"
      }
    },
    {
      "cell_type": "code",
      "source": [
        "import qiskit as qk\n",
        "\n",
        "qr = qk.QuantumRegister(2,'q')\n",
        "cr = qk.ClassicalRegister(2,'c')\n",
        "qc = qk.QuantumCircuit(qr,cr)\n",
        "qc.initialize([1,0],0)\n",
        "qc.initialize([1,0],1)\n",
        "qc.h(0)\n",
        "qc.cnot(qr[0],qr[1])\n",
        "qc.cnot(qr[0],qr[1])\n",
        "qc.measure(qr,cr)\n",
        "qc.draw('mpl')"
      ],
      "metadata": {
        "colab": {
          "base_uri": "https://localhost:8080/",
          "height": 185
        },
        "id": "-NURke0Yn1Nj",
        "outputId": "14a0d218-826c-4d79-ba98-f893c2d639b5"
      },
      "execution_count": null,
      "outputs": [
        {
          "output_type": "execute_result",
          "data": {
            "text/plain": [
              "<Figure size 447.652x204.68 with 1 Axes>"
            ],
            "image/png": "[encoded data removed]"
          },
          "metadata": {},
          "execution_count": 91
        }
      ]
    },
    {
      "cell_type": "code",
      "source": [
        "simulator = qk.Aer.get_backend('statevector_simulator')\n",
        "results = qk.execute(qc,simulator,shots=10000).result().get_counts()\n",
        "qk.visualization.plot_histogram(results)"
      ],
      "metadata": {
        "colab": {
          "base_uri": "https://localhost:8080/",
          "height": 335
        },
        "id": "3RdITjczoSZ1",
        "outputId": "b2a7b194-5bca-4998-f7d4-ccfdb97053f6"
      },
      "execution_count": null,
      "outputs": [
        {
          "output_type": "execute_result",
          "data": {
            "text/plain": [
              "<Figure size 504x360 with 1 Axes>"
            ],
            "image/png": "[encoded data removed]"
          },
          "metadata": {},
          "execution_count": 92
        }
      ]
    },
    {
      "cell_type": "code",
      "source": [
        "import qiskit as qk\n",
        "\n",
        "qr = qk.QuantumRegister(2,'q')\n",
        "cr = qk.ClassicalRegister(2,'c')\n",
        "qc = qk.QuantumCircuit(qr,cr)\n",
        "qc.initialize([1,0],0)\n",
        "qc.initialize([1,0],1)\n",
        "qc.h(0)\n",
        "qc.cnot(qr[0],qr[1])\n",
        "qc.cnot(qr[0],qr[1])\n",
        "qc.h(0)\n",
        "qc.measure(qr,cr)\n",
        "qc.draw('mpl')"
      ],
      "metadata": {
        "colab": {
          "base_uri": "https://localhost:8080/",
          "height": 185
        },
        "id": "X-Tk8h8soZ5j",
        "outputId": "02be54a4-f4ff-4b31-b780-dd4b392032c2"
      },
      "execution_count": null,
      "outputs": [
        {
          "output_type": "execute_result",
          "data": {
            "text/plain": [
              "<Figure size 447.652x204.68 with 1 Axes>"
            ],
            "image/png": "[encoded data removed]"
          },
          "metadata": {},
          "execution_count": 93
        }
      ]
    },
    {
      "cell_type": "code",
      "source": [
        "simulator = qk.Aer.get_backend('statevector_simulator')\n",
        "results = qk.execute(qc,simulator,shots=10000).result().get_counts()\n",
        "qk.visualization.plot_histogram(results)"
      ],
      "metadata": {
        "colab": {
          "base_uri": "https://localhost:8080/",
          "height": 331
        },
        "id": "W50Ph_1tofi9",
        "outputId": "d0cb71ef-2d90-4b8c-8290-30e8195f222b"
      },
      "execution_count": null,
      "outputs": [
        {
          "output_type": "execute_result",
          "data": {
            "text/plain": [
              "<Figure size 504x360 with 1 Axes>"
            ],
            "image/png": "[encoded data removed]"
          },
          "metadata": {},
          "execution_count": 94
        }
      ]
    },
    {
      "cell_type": "markdown",
      "source": [
        "##### **Ex.3a1: Present the X Pauli matrix $ \\begin{bmatrix}\n",
        "0 & 1 \\\\\n",
        "1 & 0\n",
        "\\end{bmatrix}  $ and show that it is its own inverse**"
      ],
      "metadata": {
        "id": "7a1XoqY3cHwQ"
      }
    },
    {
      "cell_type": "code",
      "source": [
        "import numpy as np\n",
        "X = np.array([[0,1],\n",
        "              [1,0]])\n",
        "X"
      ],
      "metadata": {
        "id": "cP3SdEVtcOva",
        "colab": {
          "base_uri": "https://localhost:8080/"
        },
        "outputId": "cfc51c77-2576-4ff0-b39e-b0210d31f751"
      },
      "execution_count": null,
      "outputs": [
        {
          "output_type": "execute_result",
          "data": {
            "text/plain": [
              "array([[0, 1],\n",
              "       [1, 0]])"
            ]
          },
          "metadata": {},
          "execution_count": 191
        }
      ]
    },
    {
      "cell_type": "code",
      "source": [
        "X.conj().T.dot(X)"
      ],
      "metadata": {
        "colab": {
          "base_uri": "https://localhost:8080/"
        },
        "id": "I1H3EYSYcwpv",
        "outputId": "9ffc2322-3f51-4ccb-9954-a8228d5ba5ed"
      },
      "execution_count": null,
      "outputs": [
        {
          "output_type": "execute_result",
          "data": {
            "text/plain": [
              "array([[1, 0],\n",
              "       [0, 1]])"
            ]
          },
          "metadata": {},
          "execution_count": 192
        }
      ]
    },
    {
      "cell_type": "markdown",
      "source": [
        "##### **Ex.3a2: Present the Y Pauli matrix $ \\begin{bmatrix}\n",
        "0 & -j \\\\\n",
        "j & 0\n",
        "\\end{bmatrix}  $ and show that it is its own inverse**"
      ],
      "metadata": {
        "id": "xXOIlxPMHe4j"
      }
    },
    {
      "cell_type": "code",
      "source": [
        "Y = np.array([[0,-1j],\n",
        "              [1j,0]])\n",
        "Y"
      ],
      "metadata": {
        "colab": {
          "base_uri": "https://localhost:8080/"
        },
        "id": "MqrcZJpjAeD3",
        "outputId": "3a40e2dc-2e33-485d-b80e-c8ea2f1ced10"
      },
      "execution_count": null,
      "outputs": [
        {
          "output_type": "execute_result",
          "data": {
            "text/plain": [
              "array([[ 0.+0.j, -0.-1.j],\n",
              "       [ 0.+1.j,  0.+0.j]])"
            ]
          },
          "metadata": {},
          "execution_count": 193
        }
      ]
    },
    {
      "cell_type": "code",
      "source": [
        "Y.conj().T.dot(Y)"
      ],
      "metadata": {
        "colab": {
          "base_uri": "https://localhost:8080/"
        },
        "id": "D_OzPFgDc5zn",
        "outputId": "1230eb33-5e07-4cd4-c4e2-dc98efd6c82b"
      },
      "execution_count": null,
      "outputs": [
        {
          "output_type": "execute_result",
          "data": {
            "text/plain": [
              "array([[1.+0.j, 0.+0.j],\n",
              "       [0.+0.j, 1.+0.j]])"
            ]
          },
          "metadata": {},
          "execution_count": 94
        }
      ]
    },
    {
      "cell_type": "markdown",
      "source": [
        "##### **Ex.3a3: Present the Z Pauli matrix $ \\begin{bmatrix}\n",
        "1 & 0 \\\\\n",
        "0 & -1\n",
        "\\end{bmatrix}  $ and show that it is its own inverse**"
      ],
      "metadata": {
        "id": "aWdU1bcYHgmN"
      }
    },
    {
      "cell_type": "code",
      "source": [
        "Z = np.array([[1,0],\n",
        "              [0,-1]])\n",
        "Z"
      ],
      "metadata": {
        "colab": {
          "base_uri": "https://localhost:8080/"
        },
        "id": "xJcqx0U8AhSR",
        "outputId": "fb23344c-4d23-411c-830e-89d079be9063"
      },
      "execution_count": null,
      "outputs": [
        {
          "output_type": "execute_result",
          "data": {
            "text/plain": [
              "array([[ 1,  0],\n",
              "       [ 0, -1]])"
            ]
          },
          "metadata": {},
          "execution_count": 194
        }
      ]
    },
    {
      "cell_type": "code",
      "source": [
        "Z.conj().T.dot(Z)"
      ],
      "metadata": {
        "colab": {
          "base_uri": "https://localhost:8080/"
        },
        "id": "Njvb_Ficc7rG",
        "outputId": "8a47a600-3039-4b53-c858-a531fcc343aa"
      },
      "execution_count": null,
      "outputs": [
        {
          "output_type": "execute_result",
          "data": {
            "text/plain": [
              "array([[1, 0],\n",
              "       [0, 1]])"
            ]
          },
          "metadata": {},
          "execution_count": 95
        }
      ]
    },
    {
      "cell_type": "markdown",
      "source": [
        "##### **Ex.3b: Show that $H = \\frac{1}{\\sqrt{2}}( X + Z)$  through numpy**"
      ],
      "metadata": {
        "id": "SGZYT9_EFkEP"
      }
    },
    {
      "cell_type": "code",
      "source": [
        "H = (X+Z)/np.sqrt(2); H"
      ],
      "metadata": {
        "id": "jXvXgtHXeljL",
        "colab": {
          "base_uri": "https://localhost:8080/"
        },
        "outputId": "54e6fb38-81b2-4db1-b6c4-7355663c2188"
      },
      "execution_count": null,
      "outputs": [
        {
          "output_type": "execute_result",
          "data": {
            "text/plain": [
              "array([[ 0.707,  0.707],\n",
              "       [ 0.707, -0.707]])"
            ]
          },
          "metadata": {},
          "execution_count": 199
        }
      ]
    },
    {
      "cell_type": "markdown",
      "source": [
        "##### **Ex.3c: Show that $X = H.Z.H$**"
      ],
      "metadata": {
        "id": "zj8YwVXFGRxU"
      }
    },
    {
      "cell_type": "code",
      "source": [
        "H.dot(Z).dot(H)"
      ],
      "metadata": {
        "colab": {
          "base_uri": "https://localhost:8080/"
        },
        "id": "fYwXDBZMesEk",
        "outputId": "86d095c2-f6d4-4f30-d06d-e9aff4b2af12"
      },
      "execution_count": null,
      "outputs": [
        {
          "output_type": "execute_result",
          "data": {
            "text/plain": [
              "array([[-2.23711432e-17,  1.00000000e+00],\n",
              "       [ 1.00000000e+00, -2.23711432e-17]])"
            ]
          },
          "metadata": {},
          "execution_count": 86
        }
      ]
    },
    {
      "cell_type": "markdown",
      "source": [
        "##### **Ex.3d: Show that Z = H.X.H**"
      ],
      "metadata": {
        "id": "WeYbhB1UGg7i"
      }
    },
    {
      "cell_type": "code",
      "source": [
        "H.dot(X).dot(H)"
      ],
      "metadata": {
        "colab": {
          "base_uri": "https://localhost:8080/"
        },
        "id": "iUzWW1v-ewW0",
        "outputId": "ea5d672d-df03-42c7-8e23-6d0770c3ad10"
      },
      "execution_count": null,
      "outputs": [
        {
          "output_type": "execute_result",
          "data": {
            "text/plain": [
              "array([[ 1.00000000e+00, -2.23711432e-17],\n",
              "       [ 2.23711432e-17, -1.00000000e+00]])"
            ]
          },
          "metadata": {},
          "execution_count": 87
        }
      ]
    },
    {
      "cell_type": "markdown",
      "source": [
        "##### **Ex.3e: Show that Y = -H.Y.H**"
      ],
      "metadata": {
        "id": "Id1_8joHHF1R"
      }
    },
    {
      "cell_type": "code",
      "source": [
        "-H.dot(Y).dot(H)"
      ],
      "metadata": {
        "colab": {
          "base_uri": "https://localhost:8080/"
        },
        "id": "YMbVNd-dfEz4",
        "outputId": "8625a2e7-d50c-4f96-9cc0-3f1f37621895"
      },
      "execution_count": null,
      "outputs": [
        {
          "output_type": "execute_result",
          "data": {
            "text/plain": [
              "array([[-0.+2.23711432e-17j, -0.-1.00000000e+00j],\n",
              "       [-0.+1.00000000e+00j, -0.-2.23711432e-17j]])"
            ]
          },
          "metadata": {},
          "execution_count": 89
        }
      ]
    },
    {
      "cell_type": "markdown",
      "source": [
        "##### **Ex.4a1: Present the matrix S = $ \\begin{bmatrix}\n",
        "1 & 0 \\\\\n",
        "0 & j\n",
        "\\end{bmatrix}  $ and show that it is its own inverse**"
      ],
      "metadata": {
        "id": "MG4KkBKXccmh"
      }
    },
    {
      "cell_type": "code",
      "source": [
        "import numpy as np\n",
        "S = np.array([[1,0],\n",
        "              [0,1j]])\n",
        "S"
      ],
      "metadata": {
        "id": "F7hoYIveccUO",
        "colab": {
          "base_uri": "https://localhost:8080/"
        },
        "outputId": "40787a77-bad1-4446-f52f-c5b12d01a0a5"
      },
      "execution_count": null,
      "outputs": [
        {
          "output_type": "execute_result",
          "data": {
            "text/plain": [
              "array([[1.+0.j, 0.+0.j],\n",
              "       [0.+0.j, 0.+1.j]])"
            ]
          },
          "metadata": {},
          "execution_count": 195
        }
      ]
    },
    {
      "cell_type": "code",
      "source": [
        "S.conj().T.dot(S)"
      ],
      "metadata": {
        "colab": {
          "base_uri": "https://localhost:8080/"
        },
        "id": "BLLWP4TRhRbE",
        "outputId": "49b8fd05-8935-46a2-d15a-831b41898ce7"
      },
      "execution_count": null,
      "outputs": [
        {
          "output_type": "execute_result",
          "data": {
            "text/plain": [
              "array([[1.+0.j, 0.+0.j],\n",
              "       [0.+0.j, 1.+0.j]])"
            ]
          },
          "metadata": {},
          "execution_count": 198
        }
      ]
    },
    {
      "cell_type": "markdown",
      "source": [
        "##### **Ex.4a2: Present the matrix T = $ \\begin{bmatrix}\n",
        "1 & 0 \\\\\n",
        "0 & e^{j\\frac{\\pi}{4}}\n",
        "\\end{bmatrix}  $ and show that it is its own inverse**"
      ],
      "metadata": {
        "id": "akkdxEaqI6E-"
      }
    },
    {
      "cell_type": "code",
      "source": [
        "T = np.array([[1,0],\n",
        "              [0,np.exp(1j*np.pi/4)]])\n",
        "T"
      ],
      "metadata": {
        "colab": {
          "base_uri": "https://localhost:8080/"
        },
        "id": "W1SyENfbBEPb",
        "outputId": "ad1f730c-14a0-4411-944e-77550b4bd8c5"
      },
      "execution_count": null,
      "outputs": [
        {
          "output_type": "execute_result",
          "data": {
            "text/plain": [
              "array([[1.   +0.j   , 0.   +0.j   ],\n",
              "       [0.   +0.j   , 0.707+0.707j]])"
            ]
          },
          "metadata": {},
          "execution_count": 196
        }
      ]
    },
    {
      "cell_type": "code",
      "source": [
        "T.conj().T.dot(T)"
      ],
      "metadata": {
        "colab": {
          "base_uri": "https://localhost:8080/"
        },
        "id": "dgFe7xTihVS9",
        "outputId": "48926928-268e-444b-cb55-dc11715b1cdc"
      },
      "execution_count": null,
      "outputs": [
        {
          "output_type": "execute_result",
          "data": {
            "text/plain": [
              "array([[1.+0.j, 0.+0.j],\n",
              "       [0.+0.j, 1.+0.j]])"
            ]
          },
          "metadata": {},
          "execution_count": 197
        }
      ]
    },
    {
      "cell_type": "markdown",
      "metadata": {
        "id": "fSAcu_1CxpTf"
      },
      "source": [
        "##### **Ex.5:Show the SWAP operator matrix $S = \\begin{bmatrix}\n",
        "1 & 0 & 0 & 0 \\\\\n",
        "0 & 0 & 1 & 0 \\\\\n",
        "0 & 1 & 0 & 0 \\\\\n",
        "0 & 0 & 0 & 1\n",
        "\\end{bmatrix}  $**"
      ]
    },
    {
      "cell_type": "markdown",
      "source": [
        "The SWAP exchanges the first with the second bit. Therefore $S|00\\rangle = |00\\rangle$, $S|01\\rangle = |10\\rangle$, $S|10\\rangle = |01\\rangle$ and $S|11\\rangle = |11\\rangle$"
      ],
      "metadata": {
        "id": "dy0amqwOL-U9"
      }
    },
    {
      "cell_type": "code",
      "execution_count": null,
      "metadata": {
        "colab": {
          "base_uri": "https://localhost:8080/"
        },
        "id": "_QvmtfxDxooo",
        "outputId": "d4c90fe7-451e-4588-a9b7-3081716347cc"
      },
      "outputs": [
        {
          "data": {
            "text/plain": [
              "array([[1, 0, 0, 0],\n",
              "       [0, 0, 1, 0],\n",
              "       [0, 1, 0, 0],\n",
              "       [0, 0, 0, 1]])"
            ]
          },
          "execution_count": 29,
          "metadata": {},
          "output_type": "execute_result"
        }
      ],
      "source": [
        "S = np.array([[1,0,0,0],[0,0,1,0],[0,1,0,0],[0,0,0,1]]); S"
      ]
    },
    {
      "cell_type": "code",
      "execution_count": null,
      "metadata": {
        "colab": {
          "base_uri": "https://localhost:8080/"
        },
        "id": "ewWCZdg2yR7Z",
        "outputId": "92c7766b-7740-4cd1-f183-d608975f0bb3"
      },
      "outputs": [
        {
          "data": {
            "text/plain": [
              "array([[1],\n",
              "       [0],\n",
              "       [0],\n",
              "       [0]])"
            ]
          },
          "execution_count": 30,
          "metadata": {},
          "output_type": "execute_result"
        }
      ],
      "source": [
        "S.dot(v00)"
      ]
    },
    {
      "cell_type": "code",
      "execution_count": null,
      "metadata": {
        "colab": {
          "base_uri": "https://localhost:8080/"
        },
        "id": "t0zywe-WyUkj",
        "outputId": "f275f24d-b861-497f-d8c8-2b5847a36fd9"
      },
      "outputs": [
        {
          "data": {
            "text/plain": [
              "array([[0],\n",
              "       [0],\n",
              "       [1],\n",
              "       [0]])"
            ]
          },
          "execution_count": 31,
          "metadata": {},
          "output_type": "execute_result"
        }
      ],
      "source": [
        "S.dot(v01)"
      ]
    },
    {
      "cell_type": "code",
      "execution_count": null,
      "metadata": {
        "colab": {
          "base_uri": "https://localhost:8080/"
        },
        "id": "opTrLOdMyWbw",
        "outputId": "0c64b236-b92a-486b-ca98-ddfb3c2dfa59"
      },
      "outputs": [
        {
          "data": {
            "text/plain": [
              "array([[0],\n",
              "       [1],\n",
              "       [0],\n",
              "       [0]])"
            ]
          },
          "execution_count": 32,
          "metadata": {},
          "output_type": "execute_result"
        }
      ],
      "source": [
        "S.dot(v10)"
      ]
    },
    {
      "cell_type": "code",
      "execution_count": null,
      "metadata": {
        "colab": {
          "base_uri": "https://localhost:8080/"
        },
        "id": "RqOu4tslyYTf",
        "outputId": "82716da1-f974-457d-d76c-7619da74123b"
      },
      "outputs": [
        {
          "data": {
            "text/plain": [
              "array([[0],\n",
              "       [0],\n",
              "       [0],\n",
              "       [1]])"
            ]
          },
          "execution_count": 33,
          "metadata": {},
          "output_type": "execute_result"
        }
      ],
      "source": [
        "S.dot(v11)"
      ]
    },
    {
      "cell_type": "markdown",
      "metadata": {
        "id": "eT58FeMdKNB4"
      },
      "source": [
        "##### **Ex.6:Show that $S_{ij} = C_{ij}$ $ \\cdot $ $C_{ji} \\cdot C_{ij}$**"
      ]
    },
    {
      "cell_type": "markdown",
      "metadata": {
        "id": "V0DVUSDuzdZc"
      },
      "source": [
        "Vamos confirmar que $C_{ij}.C_{ji}.C_{ij} = S_{ij}$\n",
        "\n",
        "$$C_{ij}.C_{ji}.C_{ij}.|00\\rangle = C_{ij}.C_{ji}.|00\\rangle = C_{ij}.|00\\rangle = |00\\rangle$$\n",
        "\n",
        "$$C_{ij}.C_{ji}.C_{ij}.|01\\rangle = C_{ij}.C_{ji}.|01\\rangle = C_{ij}.|11\\rangle = |10\\rangle$$\n",
        "\n",
        "$$C_{ij}.C_{ji}.C_{ij}.|10\\rangle = C_{ij}.C_{ji}.|11\\rangle = C_{ij}.|01\\rangle = |01\\rangle$$\n",
        "\n",
        "$$C_{ij}.C_{ji}.C_{ij}.|11\\rangle = C_{ij}.C_{ji}.|10\\rangle = C_{ij}.|10\\rangle = |11\\rangle$$"
      ]
    },
    {
      "cell_type": "code",
      "source": [
        "C = np.array([[1,0,0,0],\n",
        "              [0,1,0,0],\n",
        "              [0,0,0,1],\n",
        "              [0,0,1,0]]);C"
      ],
      "metadata": {
        "colab": {
          "base_uri": "https://localhost:8080/"
        },
        "id": "TMn_JVprKY8C",
        "outputId": "cd6b0b9c-bb09-42bb-f099-4964e4a92963"
      },
      "execution_count": null,
      "outputs": [
        {
          "output_type": "execute_result",
          "data": {
            "text/plain": [
              "array([[1, 0, 0, 0],\n",
              "       [0, 1, 0, 0],\n",
              "       [0, 0, 0, 1],\n",
              "       [0, 0, 1, 0]])"
            ]
          },
          "metadata": {},
          "execution_count": 204
        }
      ]
    },
    {
      "cell_type": "code",
      "source": [
        "C_ = np.array([[1,0,0,0],\n",
        "               [0,0,0,1],\n",
        "               [0,0,1,0],\n",
        "               [0,1,0,0]]);C_"
      ],
      "metadata": {
        "colab": {
          "base_uri": "https://localhost:8080/"
        },
        "id": "RCQRLN9LMnsi",
        "outputId": "327fba1e-9ef8-497a-a82b-66c8806e2f8f"
      },
      "execution_count": null,
      "outputs": [
        {
          "output_type": "execute_result",
          "data": {
            "text/plain": [
              "array([[1, 0, 0, 0],\n",
              "       [0, 0, 0, 1],\n",
              "       [0, 0, 1, 0],\n",
              "       [0, 1, 0, 0]])"
            ]
          },
          "metadata": {},
          "execution_count": 205
        }
      ]
    },
    {
      "cell_type": "code",
      "source": [
        "C.dot(C_).dot(C)"
      ],
      "metadata": {
        "colab": {
          "base_uri": "https://localhost:8080/"
        },
        "id": "aRheCPduKavH",
        "outputId": "bf075a66-b8a4-414d-b2bf-908d7770499c"
      },
      "execution_count": null,
      "outputs": [
        {
          "output_type": "execute_result",
          "data": {
            "text/plain": [
              "array([[1, 0, 0, 0],\n",
              "       [0, 0, 1, 0],\n",
              "       [0, 1, 0, 0],\n",
              "       [0, 0, 0, 1]])"
            ]
          },
          "metadata": {},
          "execution_count": 206
        }
      ]
    },
    {
      "cell_type": "markdown",
      "source": [
        "##### **Ex.7: Present the projection operators $n$ and $n'$**"
      ],
      "metadata": {
        "id": "MGJ6o50INzVc"
      }
    },
    {
      "cell_type": "markdown",
      "metadata": {
        "id": "rNQ4kp5b7EeV"
      },
      "source": [
        "O operador $n$ projeta um vetor qualquer $|\\psi\\rangle = a|0\\rangle + b|1\\rangle$ em sua componente $|1\\rangle$. O operador $n'$ é o complemento de $n$ (igual a $I-n$) e projeta o vetor na sua componente $|0\\rangle$. $I$ é a matriz identidade de 2a ordem (2x2)."
      ]
    },
    {
      "cell_type": "code",
      "execution_count": null,
      "metadata": {
        "colab": {
          "base_uri": "https://localhost:8080/"
        },
        "id": "_o4uxHT677GA",
        "outputId": "4fe0601b-da68-4604-f0aa-2bf10779620f"
      },
      "outputs": [
        {
          "data": {
            "text/plain": [
              "array([[1],\n",
              "       [1]])"
            ]
          },
          "execution_count": 37,
          "metadata": {},
          "output_type": "execute_result"
        }
      ],
      "source": [
        "v = v0 + v1; v"
      ]
    },
    {
      "cell_type": "code",
      "execution_count": null,
      "metadata": {
        "colab": {
          "base_uri": "https://localhost:8080/"
        },
        "id": "lwd-Z2Hx7tUo",
        "outputId": "f951b474-d04b-4f91-8793-5c5ab02bda2b"
      },
      "outputs": [
        {
          "data": {
            "text/plain": [
              "array([[0, 0],\n",
              "       [0, 1]])"
            ]
          },
          "execution_count": 35,
          "metadata": {},
          "output_type": "execute_result"
        }
      ],
      "source": [
        "n = np.array([[0,0],[0,1]]); n"
      ]
    },
    {
      "cell_type": "code",
      "execution_count": null,
      "metadata": {
        "colab": {
          "base_uri": "https://localhost:8080/"
        },
        "id": "3sgcaSsb8C7A",
        "outputId": "f9203ab5-1d82-4782-fb97-42909f0627a2"
      },
      "outputs": [
        {
          "data": {
            "text/plain": [
              "array([[0],\n",
              "       [1]])"
            ]
          },
          "execution_count": 38,
          "metadata": {},
          "output_type": "execute_result"
        }
      ],
      "source": [
        "n.dot(v)"
      ]
    },
    {
      "cell_type": "code",
      "execution_count": null,
      "metadata": {
        "colab": {
          "base_uri": "https://localhost:8080/"
        },
        "id": "vJfqRfVT7zvo",
        "outputId": "87e94669-ea2b-46c9-a8f2-57a8aa19060e"
      },
      "outputs": [
        {
          "data": {
            "text/plain": [
              "array([[1, 0],\n",
              "       [0, 0]])"
            ]
          },
          "execution_count": 36,
          "metadata": {},
          "output_type": "execute_result"
        }
      ],
      "source": [
        "n_ = np.array([[1,0],[0,0]]);n_"
      ]
    },
    {
      "cell_type": "code",
      "execution_count": null,
      "metadata": {
        "colab": {
          "base_uri": "https://localhost:8080/"
        },
        "id": "2HRJt0b38Mby",
        "outputId": "84bde2ac-7ef1-4d0d-9b8e-37a7d4d9762e"
      },
      "outputs": [
        {
          "data": {
            "text/plain": [
              "array([[1., 0.],\n",
              "       [0., 1.]])"
            ]
          },
          "execution_count": 40,
          "metadata": {},
          "output_type": "execute_result"
        }
      ],
      "source": [
        "I2 = np.identity(2); I2"
      ]
    },
    {
      "cell_type": "code",
      "execution_count": null,
      "metadata": {
        "colab": {
          "base_uri": "https://localhost:8080/"
        },
        "id": "WGvOhW-D8VEb",
        "outputId": "9798f257-557d-459e-c85b-ab066826b51f"
      },
      "outputs": [
        {
          "data": {
            "text/plain": [
              "array([[1., 0.],\n",
              "       [0., 0.]])"
            ]
          },
          "execution_count": 41,
          "metadata": {},
          "output_type": "execute_result"
        }
      ],
      "source": [
        "I2 - n"
      ]
    },
    {
      "cell_type": "code",
      "execution_count": null,
      "metadata": {
        "colab": {
          "base_uri": "https://localhost:8080/"
        },
        "id": "CgJT6_ek8FcP",
        "outputId": "e05f49c2-3ca7-4ff1-c8eb-873169b32db1"
      },
      "outputs": [
        {
          "data": {
            "text/plain": [
              "array([[1],\n",
              "       [0]])"
            ]
          },
          "execution_count": 39,
          "metadata": {},
          "output_type": "execute_result"
        }
      ],
      "source": [
        "n_.dot(v)"
      ]
    },
    {
      "cell_type": "markdown",
      "metadata": {
        "id": "ZTbai-XW8rJv"
      },
      "source": [
        "##### **Ex.7b: Prove that: $n^2 = n$ and $n'^2 = n'$**"
      ]
    },
    {
      "cell_type": "code",
      "execution_count": null,
      "metadata": {
        "colab": {
          "base_uri": "https://localhost:8080/"
        },
        "id": "80BdWi-69ucB",
        "outputId": "9ae6c9c2-550b-4534-dc6b-e606fbc5a942"
      },
      "outputs": [
        {
          "data": {
            "text/plain": [
              "array([[0, 0],\n",
              "       [0, 1]])"
            ]
          },
          "execution_count": 42,
          "metadata": {},
          "output_type": "execute_result"
        }
      ],
      "source": [
        "n.dot(n)"
      ]
    },
    {
      "cell_type": "code",
      "execution_count": null,
      "metadata": {
        "colab": {
          "base_uri": "https://localhost:8080/"
        },
        "id": "NTXcfS_P9xIo",
        "outputId": "47a67a57-df4f-4deb-f053-7506eef8b861"
      },
      "outputs": [
        {
          "data": {
            "text/plain": [
              "array([[1, 0],\n",
              "       [0, 0]])"
            ]
          },
          "execution_count": 43,
          "metadata": {},
          "output_type": "execute_result"
        }
      ],
      "source": [
        "n_.dot(n_)"
      ]
    },
    {
      "cell_type": "markdown",
      "metadata": {
        "id": "-NHN7Bhe-5Vm"
      },
      "source": [
        "##### **Ex.7c: Prove that $nn'=0$ and $n'n=0$**"
      ]
    },
    {
      "cell_type": "code",
      "execution_count": null,
      "metadata": {
        "colab": {
          "base_uri": "https://localhost:8080/"
        },
        "id": "6jIHz2Ry9zjc",
        "outputId": "e3292daf-3b72-41e5-ef17-fc77b4d10dfd"
      },
      "outputs": [
        {
          "data": {
            "text/plain": [
              "array([[0, 0],\n",
              "       [0, 0]])"
            ]
          },
          "execution_count": 44,
          "metadata": {},
          "output_type": "execute_result"
        }
      ],
      "source": [
        "n.dot(n_)"
      ]
    },
    {
      "cell_type": "code",
      "execution_count": null,
      "metadata": {
        "colab": {
          "base_uri": "https://localhost:8080/"
        },
        "id": "tPpUw9uA92FA",
        "outputId": "eba7bd49-97cb-4d88-f4cc-d56ff1d68424"
      },
      "outputs": [
        {
          "data": {
            "text/plain": [
              "array([[0, 0],\n",
              "       [0, 0]])"
            ]
          },
          "execution_count": 45,
          "metadata": {},
          "output_type": "execute_result"
        }
      ],
      "source": [
        "n_.dot(n)"
      ]
    },
    {
      "cell_type": "markdown",
      "metadata": {
        "id": "74orZ86E-_Dd"
      },
      "source": [
        "##### **Ex.7d: Prove that $n+n'=I$**"
      ]
    },
    {
      "cell_type": "code",
      "execution_count": null,
      "metadata": {
        "colab": {
          "base_uri": "https://localhost:8080/"
        },
        "id": "Mk94IQc-933H",
        "outputId": "7e5291f2-a39c-4e4f-b26c-d1b6b0c0a64f"
      },
      "outputs": [
        {
          "data": {
            "text/plain": [
              "array([[1, 0],\n",
              "       [0, 1]])"
            ]
          },
          "execution_count": 46,
          "metadata": {},
          "output_type": "execute_result"
        }
      ],
      "source": [
        "n+n_"
      ]
    },
    {
      "cell_type": "markdown",
      "metadata": {
        "id": "dZHO-jrv_DkH"
      },
      "source": [
        "##### **Ex.7e: Prove that $nX=Xn'$ and $Xn = n'X$**"
      ]
    },
    {
      "cell_type": "code",
      "execution_count": null,
      "metadata": {
        "colab": {
          "base_uri": "https://localhost:8080/"
        },
        "id": "SktU-hYe96IB",
        "outputId": "6f7dac18-94da-4141-c452-d28ca46057d1"
      },
      "outputs": [
        {
          "data": {
            "text/plain": [
              "array([[0, 0],\n",
              "       [1, 0]])"
            ]
          },
          "execution_count": 47,
          "metadata": {},
          "output_type": "execute_result"
        }
      ],
      "source": [
        "n.dot(X)"
      ]
    },
    {
      "cell_type": "code",
      "execution_count": null,
      "metadata": {
        "colab": {
          "base_uri": "https://localhost:8080/"
        },
        "id": "iKFn16u198OQ",
        "outputId": "6f84c918-3765-42d1-ce7d-ee34537ddce0"
      },
      "outputs": [
        {
          "data": {
            "text/plain": [
              "array([[0, 0],\n",
              "       [1, 0]])"
            ]
          },
          "execution_count": 48,
          "metadata": {},
          "output_type": "execute_result"
        }
      ],
      "source": [
        "X.dot(n_)"
      ]
    },
    {
      "cell_type": "markdown",
      "metadata": {
        "id": "6un9f7n7_m1h"
      },
      "source": [
        "##### **Ex.8: Analize the expression: $S_{ij} = n_in_j + n'_in'_j$ $+ X_iX_j(n_in'_j + n'_in_j)$**"
      ]
    },
    {
      "cell_type": "code",
      "source": [
        "import numpy as np\n",
        "n = np.array([[0,0],[0,1]]); n"
      ],
      "metadata": {
        "colab": {
          "base_uri": "https://localhost:8080/"
        },
        "id": "_udPDZWFQnQB",
        "outputId": "3b2f4187-8e28-48db-a7bd-fa78ada71634"
      },
      "execution_count": null,
      "outputs": [
        {
          "output_type": "execute_result",
          "data": {
            "text/plain": [
              "array([[0, 0],\n",
              "       [0, 1]])"
            ]
          },
          "metadata": {},
          "execution_count": 207
        }
      ]
    },
    {
      "cell_type": "code",
      "source": [
        "n_ = np.array([[1,0],[0,0]]);n_"
      ],
      "metadata": {
        "colab": {
          "base_uri": "https://localhost:8080/"
        },
        "id": "Y3QaDBb0QseC",
        "outputId": "04c7a6af-05c7-42cc-8405-ce4aa998bf75"
      },
      "execution_count": null,
      "outputs": [
        {
          "output_type": "execute_result",
          "data": {
            "text/plain": [
              "array([[1, 0],\n",
              "       [0, 0]])"
            ]
          },
          "metadata": {},
          "execution_count": 208
        }
      ]
    },
    {
      "cell_type": "code",
      "execution_count": null,
      "metadata": {
        "colab": {
          "base_uri": "https://localhost:8080/"
        },
        "id": "1EgGCP3aAAmX",
        "outputId": "e542e4a4-2ddb-4af8-8c7d-2a7c8170f66e"
      },
      "outputs": [
        {
          "data": {
            "text/plain": [
              "array([[0, 0, 0, 0],\n",
              "       [0, 0, 0, 0],\n",
              "       [0, 0, 0, 0],\n",
              "       [0, 0, 0, 1]])"
            ]
          },
          "execution_count": 51,
          "metadata": {},
          "output_type": "execute_result"
        }
      ],
      "source": [
        "# ni nj operam em bits distintos. Como cada operador n atua em um vetor de\n",
        "#  2 dimensões, ni nj é um operador de 4 dimensões. Sendo assim, fica implícito\n",
        "#  pelos subscritos que ni nj é um produto tensorial.\n",
        "np.kron(n,n)"
      ]
    },
    {
      "cell_type": "code",
      "execution_count": null,
      "metadata": {
        "colab": {
          "base_uri": "https://localhost:8080/"
        },
        "id": "Q7v4CcwzAd4o",
        "outputId": "72da7a6a-a952-4d52-9677-4f3141da3622"
      },
      "outputs": [
        {
          "data": {
            "text/plain": [
              "array([[1, 0, 0, 0],\n",
              "       [0, 0, 0, 0],\n",
              "       [0, 0, 0, 0],\n",
              "       [0, 0, 0, 0]])"
            ]
          },
          "execution_count": 52,
          "metadata": {},
          "output_type": "execute_result"
        }
      ],
      "source": [
        "# O mesmo vale para n'i n'j\n",
        "np.kron(n_,n_)"
      ]
    },
    {
      "cell_type": "code",
      "execution_count": null,
      "metadata": {
        "colab": {
          "base_uri": "https://localhost:8080/"
        },
        "id": "lx-h8vqZAl-F",
        "outputId": "6f4f819e-d22d-4d00-ebe1-246181f39183"
      },
      "outputs": [
        {
          "data": {
            "text/plain": [
              "array([[0, 0, 0, 0],\n",
              "       [0, 0, 0, 0],\n",
              "       [0, 0, 1, 0],\n",
              "       [0, 0, 0, 0]])"
            ]
          },
          "execution_count": 53,
          "metadata": {},
          "output_type": "execute_result"
        }
      ],
      "source": [
        "# Para ni n'j\n",
        "np.kron(n,n_)"
      ]
    },
    {
      "cell_type": "code",
      "execution_count": null,
      "metadata": {
        "colab": {
          "base_uri": "https://localhost:8080/"
        },
        "id": "qINDYhQdArB5",
        "outputId": "06e3e3bb-ed71-4930-8960-fa933524ea0b"
      },
      "outputs": [
        {
          "data": {
            "text/plain": [
              "array([[0, 0, 0, 0],\n",
              "       [0, 1, 0, 0],\n",
              "       [0, 0, 0, 0],\n",
              "       [0, 0, 0, 0]])"
            ]
          },
          "execution_count": 54,
          "metadata": {},
          "output_type": "execute_result"
        }
      ],
      "source": [
        "# E para n'i nj\n",
        "np.kron(n_,n)"
      ]
    },
    {
      "cell_type": "code",
      "execution_count": null,
      "metadata": {
        "colab": {
          "base_uri": "https://localhost:8080/"
        },
        "id": "68l0O0YvAvp1",
        "outputId": "f6e644c8-7d5d-4a69-da2c-f5f9c754ed0a"
      },
      "outputs": [
        {
          "data": {
            "text/plain": [
              "array([[0, 0, 0, 1],\n",
              "       [0, 0, 1, 0],\n",
              "       [0, 1, 0, 0],\n",
              "       [1, 0, 0, 0]])"
            ]
          },
          "execution_count": 55,
          "metadata": {},
          "output_type": "execute_result"
        }
      ],
      "source": [
        "# Xi Xj são dois operadores 2x2 de inversão, cada um atuando em um bit\n",
        "#  distinto. Sendo assim, fazemos o produto tensorial entre ambos\n",
        "#  para obter XiXj\n",
        "np.kron(X,X)"
      ]
    },
    {
      "cell_type": "code",
      "execution_count": null,
      "metadata": {
        "colab": {
          "base_uri": "https://localhost:8080/"
        },
        "id": "BgfrO-PmBEVQ",
        "outputId": "1624fddf-02c3-4f9b-aee1-fbcac9e635b8"
      },
      "outputs": [
        {
          "data": {
            "text/plain": [
              "array([[0, 0, 0, 0],\n",
              "       [0, 0, 1, 0],\n",
              "       [0, 1, 0, 0],\n",
              "       [0, 0, 0, 0]])"
            ]
          },
          "execution_count": 56,
          "metadata": {},
          "output_type": "execute_result"
        }
      ],
      "source": [
        "# No caso da expressão XiXj(ninj' + ni'nj) temos entre parênteses duas\n",
        "#  matrizes 4x4 (ninj'+ni'nj) e fora dos parênteses uma matriz 4x4 (XiXj)\n",
        "#  Sendo assim fazemos neste caso o produto matricial normal para\n",
        "#  calcular esta expressão.\n",
        "np.kron(X,X).dot(np.kron(n,n_)+np.kron(n_,n))"
      ]
    },
    {
      "cell_type": "code",
      "execution_count": null,
      "metadata": {
        "colab": {
          "base_uri": "https://localhost:8080/"
        },
        "id": "OirlR5ZABn2I",
        "outputId": "0175f5e5-aa46-41b2-d022-375e4ffad242"
      },
      "outputs": [
        {
          "data": {
            "text/plain": [
              "array([[1, 0, 0, 0],\n",
              "       [0, 0, 1, 0],\n",
              "       [0, 1, 0, 0],\n",
              "       [0, 0, 0, 1]])"
            ]
          },
          "execution_count": 57,
          "metadata": {},
          "output_type": "execute_result"
        }
      ],
      "source": [
        "# E por último somamos com o resultado inicial de ninj + ni'nj'\n",
        "#  Como pode-se ver, esta expressão gera o operador de SWAP\n",
        "np.kron(n,n) + np.kron(n_,n_) + np.kron(X,X).dot(np.kron(n,n_)+np.kron(n_,n))"
      ]
    },
    {
      "cell_type": "code",
      "execution_count": null,
      "metadata": {
        "colab": {
          "base_uri": "https://localhost:8080/"
        },
        "id": "iIaZi5jtCKuu",
        "outputId": "66c4d092-ba22-4434-bbd2-0fe3772848e4"
      },
      "outputs": [
        {
          "data": {
            "text/plain": [
              "array([[0, 0, 0, 0],\n",
              "       [0, 0, 0, 0],\n",
              "       [0, 0, 0, 0],\n",
              "       [0, 0, 0, 1]])"
            ]
          },
          "execution_count": 58,
          "metadata": {},
          "output_type": "execute_result"
        }
      ],
      "source": [
        "# É importante observar que ninj forma um operador que projeta um vetor de\n",
        "#  4 dimensões (00, 01, 10, 11) em sua componente 11\n",
        "np.kron(n,n)"
      ]
    },
    {
      "cell_type": "code",
      "execution_count": null,
      "metadata": {
        "colab": {
          "base_uri": "https://localhost:8080/"
        },
        "id": "FdSW5E92CV0K",
        "outputId": "5fce6f50-d20d-46ba-c7ca-ecc4a66684f6"
      },
      "outputs": [
        {
          "data": {
            "text/plain": [
              "array([[1, 0, 0, 0],\n",
              "       [0, 0, 0, 0],\n",
              "       [0, 0, 0, 0],\n",
              "       [0, 0, 0, 0]])"
            ]
          },
          "execution_count": 59,
          "metadata": {},
          "output_type": "execute_result"
        }
      ],
      "source": [
        "# De maneira similar ni'nj' projeta um vetor de 4 dimensões em sua componente 00\n",
        "np.kron(n_,n_)"
      ]
    },
    {
      "cell_type": "code",
      "execution_count": null,
      "metadata": {
        "colab": {
          "base_uri": "https://localhost:8080/"
        },
        "id": "1KJx0JBLCtXD",
        "outputId": "5b3beecd-246d-4ad0-fcf9-3df1b23c6fe4"
      },
      "outputs": [
        {
          "data": {
            "text/plain": [
              "array([[0, 0, 0, 0],\n",
              "       [0, 1, 0, 0],\n",
              "       [0, 0, 0, 0],\n",
              "       [0, 0, 0, 0]])"
            ]
          },
          "execution_count": 61,
          "metadata": {},
          "output_type": "execute_result"
        }
      ],
      "source": [
        "# ni'nj projeta em 01\n",
        "np.kron(n_,n)"
      ]
    },
    {
      "cell_type": "code",
      "execution_count": null,
      "metadata": {
        "colab": {
          "base_uri": "https://localhost:8080/"
        },
        "id": "LqReWdQoCf7r",
        "outputId": "3362a95f-2ff7-447d-c318-01919122431a"
      },
      "outputs": [
        {
          "data": {
            "text/plain": [
              "array([[0, 0, 0, 0],\n",
              "       [0, 0, 0, 0],\n",
              "       [0, 0, 1, 0],\n",
              "       [0, 0, 0, 0]])"
            ]
          },
          "execution_count": 60,
          "metadata": {},
          "output_type": "execute_result"
        }
      ],
      "source": [
        "# Assim como ninj' projeta em 10\n",
        "np.kron(n,n_)"
      ]
    },
    {
      "cell_type": "code",
      "execution_count": null,
      "metadata": {
        "colab": {
          "base_uri": "https://localhost:8080/"
        },
        "id": "1_XPnI0nC4X7",
        "outputId": "69232d9f-89b6-4412-9ce6-f49d1147c27b"
      },
      "outputs": [
        {
          "data": {
            "text/plain": [
              "array([[1, 0, 0, 0],\n",
              "       [0, 1, 0, 0],\n",
              "       [0, 0, 1, 0],\n",
              "       [0, 0, 0, 1]])"
            ]
          },
          "execution_count": 62,
          "metadata": {},
          "output_type": "execute_result"
        }
      ],
      "source": [
        "# E por último vemos que ni'nj' + ni'nj + ninj' + ninj = I\n",
        "nn = np.kron(n,n)\n",
        "nn_ = np.kron(n,n_)\n",
        "n_n = np.kron(n_,n)\n",
        "n_n_ = np.kron(n_,n_)\n",
        "nn + nn_ + n_n + n_n_"
      ]
    },
    {
      "cell_type": "markdown",
      "source": [
        "##### **Ex.9: Prove that $(a \\otimes b)$ $.(c \\otimes d)$ $= (a.c)$ $\\otimes(b.d)$**"
      ],
      "metadata": {
        "id": "-goLmNeMQS5j"
      }
    },
    {
      "cell_type": "code",
      "source": [],
      "metadata": {
        "id": "JPSJbfHrqcLP"
      },
      "execution_count": null,
      "outputs": []
    },
    {
      "cell_type": "markdown",
      "source": [
        "##### **Ex.10: Prove that $(n \\otimes n)$ $.(n' \\otimes n') = 0$**"
      ],
      "metadata": {
        "id": "rgApWdmDR0_6"
      }
    },
    {
      "cell_type": "code",
      "source": [
        "import numpy as np\n",
        "n = np.array([[0,0],[0,1]]); n"
      ],
      "metadata": {
        "colab": {
          "base_uri": "https://localhost:8080/"
        },
        "id": "As8qjjIbRGoy",
        "outputId": "6422aa48-0b6d-49f4-d722-5b3107d2f484"
      },
      "execution_count": null,
      "outputs": [
        {
          "output_type": "execute_result",
          "data": {
            "text/plain": [
              "array([[0, 0],\n",
              "       [0, 1]])"
            ]
          },
          "metadata": {},
          "execution_count": 209
        }
      ]
    },
    {
      "cell_type": "code",
      "source": [
        "n_ = np.array([[1,0],[0,0]]);n_"
      ],
      "metadata": {
        "colab": {
          "base_uri": "https://localhost:8080/"
        },
        "id": "hHr7hbezRLEp",
        "outputId": "af35a056-0f98-47fa-e92c-03226f6213b8"
      },
      "execution_count": null,
      "outputs": [
        {
          "output_type": "execute_result",
          "data": {
            "text/plain": [
              "array([[1, 0],\n",
              "       [0, 0]])"
            ]
          },
          "metadata": {},
          "execution_count": 210
        }
      ]
    },
    {
      "cell_type": "code",
      "execution_count": null,
      "metadata": {
        "colab": {
          "base_uri": "https://localhost:8080/"
        },
        "id": "f0Jcih3LEPyD",
        "outputId": "a4395f9a-0cb0-4357-b436-8cf109403bb3"
      },
      "outputs": [
        {
          "output_type": "execute_result",
          "data": {
            "text/plain": [
              "array([[0, 0, 0, 0],\n",
              "       [0, 0, 0, 0],\n",
              "       [0, 0, 0, 0],\n",
              "       [0, 0, 0, 0]])"
            ]
          },
          "metadata": {},
          "execution_count": 211
        }
      ],
      "source": [
        "# (n x n).(n_ x n_)\n",
        "np.kron(n,n).dot(np.kron(n_,n_))"
      ]
    },
    {
      "cell_type": "code",
      "execution_count": null,
      "metadata": {
        "id": "F1dixl-HMMAt"
      },
      "outputs": [],
      "source": [
        "# Faz sentido que (ni x nj).(ni_ x nj_) seja o vetor nulo pois:\n",
        "#   ni_ x nj_ é um operador que recebe um vetor de 4 dimensões e\n",
        "#   produz como resultado apenas sua componente |00>. Por sua\n",
        "#   vez ni x nj é um operador que recebe um vetor de 4 dimensões\n",
        "#   e produz como resultado apenas sua componente |11>. Esta\n",
        "#   componente foi zerada pelo primeiro operador, logo o resultado\n",
        "#   será nulo. Isto vai acontecer sempre que a componente não\n",
        "#   zerada do primeiro operador for diferente da do segundo em\n",
        "#   outras palavras sempre que ij do primeiro for diferente de ij\n",
        "#   do segundo."
      ]
    },
    {
      "cell_type": "code",
      "execution_count": null,
      "metadata": {
        "colab": {
          "base_uri": "https://localhost:8080/"
        },
        "id": "xO2ylsb-NhsQ",
        "outputId": "5e8c8ba6-08fb-4902-e780-fa95f75dad3d"
      },
      "outputs": [
        {
          "data": {
            "text/plain": [
              "array([[0, 0, 0, 0],\n",
              "       [0, 0, 0, 0],\n",
              "       [0, 0, 0, 0],\n",
              "       [0, 0, 0, 0]])"
            ]
          },
          "execution_count": 67,
          "metadata": {},
          "output_type": "execute_result"
        }
      ],
      "source": [
        "np.kron(n,n).dot(np.kron(n_,n_))"
      ]
    },
    {
      "cell_type": "code",
      "execution_count": null,
      "metadata": {
        "id": "Mahd2WQgNr3X"
      },
      "outputs": [],
      "source": [
        "# Outra forma de entender é transformar (n x n).(n_ x n_) em\n",
        "#  (n.n_) x (n.n_). Como n é ortogonal a n_, a projeção de n\n",
        "#  em n_ dará zero também."
      ]
    },
    {
      "cell_type": "code",
      "execution_count": null,
      "metadata": {
        "colab": {
          "base_uri": "https://localhost:8080/"
        },
        "id": "SA9ey4gdD3uk",
        "outputId": "79104fa1-f72c-4975-99ab-d1edb58c198d"
      },
      "outputs": [
        {
          "data": {
            "text/plain": [
              "array([[0, 0, 0, 0],\n",
              "       [0, 0, 0, 0],\n",
              "       [0, 0, 0, 0],\n",
              "       [0, 0, 0, 0]])"
            ]
          },
          "execution_count": 64,
          "metadata": {},
          "output_type": "execute_result"
        }
      ],
      "source": [
        "np.kron(n.dot(n_),n.dot(n_))"
      ]
    },
    {
      "cell_type": "code",
      "execution_count": null,
      "metadata": {
        "colab": {
          "base_uri": "https://localhost:8080/"
        },
        "id": "BNOUks1BJsm3",
        "outputId": "2d096b8b-e528-4da4-de8e-d2cbeea0d8d4"
      },
      "outputs": [
        {
          "data": {
            "text/plain": [
              "array([[0, 0, 0, 0],\n",
              "       [0, 0, 0, 0],\n",
              "       [0, 0, 0, 0],\n",
              "       [0, 0, 0, 0]])"
            ]
          },
          "execution_count": 82,
          "metadata": {},
          "output_type": "execute_result"
        }
      ],
      "source": [
        "nn.dot(n_n_)"
      ]
    },
    {
      "cell_type": "code",
      "execution_count": null,
      "metadata": {
        "colab": {
          "base_uri": "https://localhost:8080/"
        },
        "id": "RZ5aTbAzFSzL",
        "outputId": "7974e26a-a80c-4e69-99d2-cef6ef6c5614"
      },
      "outputs": [
        {
          "data": {
            "text/plain": [
              "array([[0, 0, 0, 0],\n",
              "       [0, 0, 0, 0],\n",
              "       [0, 0, 0, 0],\n",
              "       [0, 0, 0, 0]])"
            ]
          },
          "execution_count": 83,
          "metadata": {},
          "output_type": "execute_result"
        }
      ],
      "source": [
        "# (n_ x n).(n x n_)\n",
        "np.kron(n_,n).dot(np.kron(n,n_))"
      ]
    },
    {
      "cell_type": "code",
      "execution_count": null,
      "metadata": {
        "colab": {
          "base_uri": "https://localhost:8080/"
        },
        "id": "JWcCcbqBJ3MU",
        "outputId": "5fc46ac6-2322-4e28-b440-90faefbad715"
      },
      "outputs": [
        {
          "data": {
            "text/plain": [
              "array([[0, 0, 0, 0],\n",
              "       [0, 0, 0, 0],\n",
              "       [0, 0, 0, 0],\n",
              "       [0, 0, 0, 0]])"
            ]
          },
          "execution_count": 84,
          "metadata": {},
          "output_type": "execute_result"
        }
      ],
      "source": [
        "n_n.dot(nn_)"
      ]
    },
    {
      "cell_type": "code",
      "execution_count": null,
      "metadata": {
        "colab": {
          "base_uri": "https://localhost:8080/"
        },
        "id": "Koh_X7ULFc5c",
        "outputId": "8e718c69-51cb-4102-db1f-95dff810baae"
      },
      "outputs": [
        {
          "data": {
            "text/plain": [
              "array([[0, 0, 0, 0],\n",
              "       [0, 0, 0, 0],\n",
              "       [0, 0, 0, 0],\n",
              "       [0, 0, 0, 0]])"
            ]
          },
          "execution_count": 85,
          "metadata": {},
          "output_type": "execute_result"
        }
      ],
      "source": [
        "# (n x n_).(n_ x n)\n",
        "np.kron(n, n_).dot(np.kron(n_,n))"
      ]
    },
    {
      "cell_type": "code",
      "execution_count": null,
      "metadata": {
        "colab": {
          "base_uri": "https://localhost:8080/"
        },
        "id": "xnq3xru4J7SI",
        "outputId": "a3191243-26c3-495c-fa55-19ff945d3fcd"
      },
      "outputs": [
        {
          "data": {
            "text/plain": [
              "array([[0, 0, 0, 0],\n",
              "       [0, 0, 0, 0],\n",
              "       [0, 0, 0, 0],\n",
              "       [0, 0, 0, 0]])"
            ]
          },
          "execution_count": 86,
          "metadata": {},
          "output_type": "execute_result"
        }
      ],
      "source": [
        "nn_.dot(n_n)"
      ]
    },
    {
      "cell_type": "code",
      "execution_count": null,
      "metadata": {
        "colab": {
          "base_uri": "https://localhost:8080/"
        },
        "id": "B76EhqUZFpLK",
        "outputId": "ab9e61f8-6534-406e-a1be-bad6d9f83c74"
      },
      "outputs": [
        {
          "data": {
            "text/plain": [
              "array([[0, 0, 0, 0],\n",
              "       [0, 0, 0, 0],\n",
              "       [0, 0, 0, 0],\n",
              "       [0, 0, 0, 0]])"
            ]
          },
          "execution_count": 87,
          "metadata": {},
          "output_type": "execute_result"
        }
      ],
      "source": [
        "# (n_ x n_).(n x n)\n",
        "np.kron(n_, n_).dot(np.kron(n, n))"
      ]
    },
    {
      "cell_type": "code",
      "execution_count": null,
      "metadata": {
        "colab": {
          "base_uri": "https://localhost:8080/"
        },
        "id": "guRcvrXcKBKa",
        "outputId": "cc649222-fef6-4dc2-befc-bc0c37e6d634"
      },
      "outputs": [
        {
          "data": {
            "text/plain": [
              "array([[0, 0, 0, 0],\n",
              "       [0, 0, 0, 0],\n",
              "       [0, 0, 0, 0],\n",
              "       [0, 0, 0, 0]])"
            ]
          },
          "execution_count": 88,
          "metadata": {},
          "output_type": "execute_result"
        }
      ],
      "source": [
        "n_n_.dot(nn)"
      ]
    }
  ]
}