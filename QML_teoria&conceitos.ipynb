{
  "nbformat": 4,
  "nbformat_minor": 0,
  "metadata": {
    "colab": {
      "name": "QML_Full.ipynb",
      "provenance": [],
      "collapsed_sections": [
        "oir8ORAJPpbu",
        "9_orBbDChL2B",
        "jFWHgLwpQ6ne",
        "wDHZXmabt4BQ",
        "9hgfuqqZk3oN",
        "CQt1TxrUYPqz",
        "KIq0ZEsSg1tW",
        "vDBv_pJ0sDJK",
        "_KrhCLfAZUd_",
        "YwgtKJNeUgce",
        "x3pDxeeAcGWZ"
      ],
      "include_colab_link": true
    },
    "kernelspec": {
      "name": "python3",
      "display_name": "Python 3"
    },
    "language_info": {
      "name": "python"
    }
  },
  "cells": [
    {
      "cell_type": "markdown",
      "metadata": {
        "id": "view-in-github",
        "colab_type": "text"
      },
      "source": [
        "<a href=\"https://colab.research.google.com/github/gustavomirapalheta/Quantum-Computing-with-Qiskit/blob/trabalho_2021_09_29/QML_teoria%26conceitos.ipynb\" target=\"_parent\"><img src=\"https://colab.research.google.com/assets/colab-badge.svg\" alt=\"Open In Colab\"/></a>"
      ]
    },
    {
      "cell_type": "markdown",
      "metadata": {
        "id": "CD8kUzecXUNw"
      },
      "source": [
        " # Quantum Computing: Uma Introdução"
      ]
    },
    {
      "cell_type": "markdown",
      "metadata": {
        "id": "lGNI5W0IzeOe"
      },
      "source": [
        "## Quantum Computing for All! (A Poetic Introduction)"
      ]
    },
    {
      "cell_type": "markdown",
      "metadata": {
        "id": "CrI9T05APtmi"
      },
      "source": [
        "Dear coleagues, it's been a while since I started reading about Quantum Computing. In the mean time, I have also developed some courses on what is called now Machine Learning. Ten, fifteen years ago Machine Learning was called Statistics. Then, the CSVs files started becoming huge, with millions of rows and hundreds, thousands of columns. Statistics became Big Data. \n",
        "\n",
        "Some statistics rules for selecting which column (variable) to use, like p-value became difficult to be explained to customers, specially executives, which need something that can be quickly learned, easily remembered and  effortlessly applied on a daily basis. \n",
        "\n",
        "P-value also started giving strange answers when used in these colossal tables (after all, if 5% of your data is a 100.000 rows with 100 columns, who knows what will appear in this subset of your data???). \n",
        "\n",
        "It was at this moment that somebody \"remembered\" that p-values had been developed originally with way much more simpler tables, tables in which you were forced to use all the rows and columns in the development of your model. In this context p-values were a way of estimating the other data that was \"out there\". But with tables made of millions of rows you could just separate 500.000 of them to be the \"world out there\", use the 4.500.000 to develop (train) your model and afterwards see (\"test\") what would happen in the real world when your model was put to work. Statistics that had became Big Data was now renamed also to Machine Learning.\n",
        "\n",
        "The algorithms were still being used to model simple phenomena. Phenomena that could be described with straight lines. Science, the scientific revolution started 500 years ago when a group of geniuses tried to apply simple rules to simple phenomena. It worked for quite a while (astonishing well), but the rule was always: simple phenomena that can be described preferably with straight lines, at most with a parabola. \n",
        "\n",
        "The world is incredibly complex, but nonetheless our minds are capable of dealing with all kinds of phenomena, be they describable by straight lines or not. And then somebody tried to apply a method of finding non linear patterns in the data called neural networks. Statistics, now mingled with computer science became Deep Learning.\n",
        "\n",
        "But all this has a cost. The cost of dealing with millions of rows, thousands of columns, to train, validade and test our models. And this cost is paid in the most precious commoditty that a human being can spend: TIME! Our computers are becoming overwhelmed by this combination of Big Data, Machine Learning and Deep Learning that has accomplished a lot of things but needs an ever increasing ammount of data to be processed.\n",
        "\n",
        "It was then that another technology appeared. A technology that is still in its infancy, but is promising us with a future when computers will be able to digest an unthinkable ammount of data in a matter of seconds, process it and tell us where the results are. This technology is called Quantum Computing.\n",
        "\n",
        "What is Quantum Computing and how it can be used in the Machine Learning way of finding the utmost complex patterns in mountains of data is the purpose of a field now called Quantum Machine Learning.\n",
        "\n",
        "This field blends together two of my mostly cherished areas of study: Computing and Physics (and of course, the possibility of making some money along the line, after all, bills doesn't stop arriving each month for us to have them paid...). And this group of Jupyter Notebooks is my attempt to make this area of study better know by as many people as possible. \n",
        "\n",
        "Quantum Machine Learning. This is the Holly Grail of my knowledge dreams. Understand this dream, make it available to others, is the objective of this and other Jupyter Notebooks that I will try writing in the near future.\n",
        "\n",
        "In this journey, Python will be our driver, and Qiskit our compass. The destiny: translating to the world of Quantum Computing the Machine Learning algorithms that have made us devise a future with Intelligent Machines at our disposal.\n",
        "\n",
        "Hope you enjoy the ride. It will be bumpy, sometimes frustating, but if we keep our focus and always remember why we are here, I promise you that there will be a pot of gold at the end of the rainbow waiting for us. \n",
        "\n",
        "Happy Journey! And Let Quantum Machine Learning BE!"
      ]
    },
    {
      "cell_type": "markdown",
      "metadata": {
        "id": "oir8ORAJPpbu"
      },
      "source": [
        "## Quantum Computing for All!"
      ]
    },
    {
      "cell_type": "markdown",
      "metadata": {
        "id": "mcRR9oiPVfqh"
      },
      "source": [
        "The idea behind these notebooks is to show how to solve Machine Learning problems using a logic based on Qubits. This is called Quantum Machine Learning.\n",
        "\n",
        "For the machine learning part it will be used `python`, `numpy`, `matplotlib`, `pandas`, `scikit-learn` and `keras`. For the quantum computing part it will be used `qiskit`.\n",
        "\n",
        "The first part of this course provides a quick review of Python resources, including graphics, data manipulation and symbolic math.\n",
        "\n",
        "The second part deals with qiskit circuit and algorithmic design.\n",
        "\n",
        "The third part blends the first and second parts showing how to solve machine learning problems using qiskit and the speed up that it entails.\n",
        "\n"
      ]
    },
    {
      "cell_type": "markdown",
      "metadata": {
        "id": "9_orBbDChL2B"
      },
      "source": [
        "## Python, Numpy, Matplotlib"
      ]
    },
    {
      "cell_type": "code",
      "metadata": {
        "colab": {
          "base_uri": "https://localhost:8080/",
          "height": 297
        },
        "id": "DgUf2xunRHxq",
        "outputId": "7b19b1c0-bd67-4209-f2c1-33b7e3009b4d"
      },
      "source": [
        "import numpy as np\n",
        "from matplotlib import pyplot as plt\n",
        "x = np.linspace(0, 2*np.pi, 1000)\n",
        "y1 = np.sin(x)\n",
        "y2 = np.cos(x)\n",
        "\n",
        "fig, ax = plt.subplots(nrows=1, ncols=2)\n",
        "ax[0].scatter(x=x, y=y1)\n",
        "ax[0].scatter(x=x, y=y2)\n",
        "ax[0].set_title(\"Gráfico 1\")\n",
        "ax[1].plot(x,y1)\n",
        "ax[1].plot(x,y2)\n",
        "ax[1].set_title(\"Gráfico 2\")\n",
        "plt.tight_layout();"
      ],
      "execution_count": null,
      "outputs": [
        {
          "output_type": "display_data",
          "data": {
            "image/png": "[encoded data removed]",
            "text/plain": [
              "<Figure size 432x288 with 2 Axes>"
            ]
          },
          "metadata": {
            "tags": [],
            "needs_background": "light"
          }
        }
      ]
    },
    {
      "cell_type": "markdown",
      "metadata": {
        "id": "Y-0IPdpHmfQc"
      },
      "source": [
        "## Quantum Computing: Teoria e Conceitos"
      ]
    },
    {
      "cell_type": "markdown",
      "metadata": {
        "id": "KIq0ZEsSg1tW"
      },
      "source": [
        "**Introdução**"
      ]
    },
    {
      "cell_type": "markdown",
      "metadata": {
        "id": "IOECTGJuFzyu"
      },
      "source": [
        "Nesta etapa vamos mesclar a teoria dos estados de um Qubit (a qual envolve o uso da notação de Dirac) com a simulação destes estados em um computador quântico (o qual estará disponível através do pacote Qiskit)."
      ]
    },
    {
      "cell_type": "markdown",
      "metadata": {
        "id": "8KFf4RbgIRfW"
      },
      "source": [
        "**Notação de Dirac**: através dela podemos representar a sobreposição de $n$ estados e amplitudes em um sistema $\\psi$ conforme segue: $\\psi = c_0|x_0 \\rangle + c_1 | x_1 \\rangle + ... + \\ c_{n-1}|x_{n-1} \\rangle$"
      ]
    },
    {
      "cell_type": "markdown",
      "metadata": {
        "id": "yBv37sQTTIkp"
      },
      "source": [
        "**Sobreposição de Estados**: só podemos saber \"o que se passa\" com uma partícula subatômica (um fóton de luz por exemplo) se tentarmos medir o seu estado. Neste momento a partícula irá nos \"responder\" com qualquer dos possíveis estados $x_i acima. \n",
        "\n",
        "Devemos lembrar no entanto que uma medição nos trará como resultado um único estado por vez. É como se a partícula ao ser medida \"parasse\" sua sobreposição e nos mostrasse uma fotografia momentânea de si mesma. Damos o nome a este fenômeno de **colapso da sobreposição de estados** ou **colapso da função de onda** associada à partícula. \n",
        "\n",
        "No entanto, lembre-se que enquanto não tentamos medi-la, ela estará em um \"estado\" distinto, que na prática a caracteriza. Neste estado distinto ela está parcial e simultaneamente em todos os *n* possíveis estados os quais são passíveis de observação ao realizarmos uma medida. Damos o nome deste estado distinto de **estado de sobreposição** ou **sobreposição de estados** ou simplesmente de **sobreposição**."
      ]
    },
    {
      "cell_type": "markdown",
      "metadata": {
        "id": "4KWHnSmXXXUy"
      },
      "source": [
        "**Amplitudes $c_0$ ... $c_{n-1}$** e **probabilidades de medição dos estados $x_0$ ... $x_{n-1}$** de uma **partícula**. Cada estado passível de ser medido $x_0$ ... $x_{n-1}$ tem uma amplitude $c_i$ associada ao mesmo. Esta amplitude pode ser um número complexo qualquer, com qualquer valor (negativo, nulo ou positivo) tanto na sua parte real quanto na parte imaginária.\n",
        "\n",
        "A probabilidade de obtermos como resposta a uma medição do estado de uma partícula o valor $x_i$ está associada com o produto $c_i.c_i^{*}$ associado a amplitude $c_i$ do estado $x_i$.\n",
        "\n",
        "Uma vez que o valor numérico $c_i$ pode ser um número complexo qualquer, devemos lembrar que $c_i^{*}$ é o seu complexo conjugado (o número obtido trocando a parte imaginária do mesmo de sinal). Por exemplo se $c_i = 3 + 4i$, seu complexo conjugado $c_i^{*}$ será igual a $c_i^{*} = 3 - 4i$.\n",
        "\n",
        "Porém observe que o produto $c_i.c_i^{*}$ sempre será um número real. Se supusermos que a soma de todos os produtos $c_i.c_i^{*}$ para $i$ indo de $0$ a $n-1$ seja igual a $1$, podemos dizer que cada produto $c_i.c_i^{*}$ representará a probabilidade de obtermos o estado $x_i$ associado em uma medida qualquer."
      ]
    },
    {
      "cell_type": "markdown",
      "metadata": {
        "id": "-MhiJZk3cHdx"
      },
      "source": [
        "Toda a \"estranheza\" da Mecânica Quântica decorre da possibilidade destas $n$ amplitudes $c_i$ serem constituidas de qualquer número possível. Podendo misturar valores positivos com negativos podemos obter como resultado para uma combinação de $c_i$s distintos até mesmo o valor 0. Isto significa que o estado $x_i$ associado à amplitude $c_i$ terá probabilidade 0% de ser medido, o que significa que não vamos medi-lo. Dizemos portanto que aquele resultado \"desapareceu\" de nossas medidas, em outras palavras, naquela situação a partícula \"sumiu\". Dado que tal soma com resultado nulo só pode aparecer decorrente da interação de outros estados, dizemos que ocorreu um fenômeno de **interferência** da partícula. Porém somos levados a concluir que, dados os estados da partícula interagirem entre sí (enquanto a mesma está em sobreposição), a partícula está interindo **consigo própria**.\n",
        "\n",
        "Do ponto de vista filosófico, isto pode gerar (alias tem gerado a mais de cem anos) uma enorme confusão, com grandes nomes da ciência tentando dar voltas de pensamento e executando verdadeiros malabarismos mentais para encontrar formas de explicar tais fenômenos. De nossa parte, o que nos interessa é que a sobreposição e suas consequências podem ser facilmente analisadas através da maquinaria dos números complexos e da álgebra linear. Seguiremos aqui a linha *filosófica* muito bem descrita por uma frase pronunciada pelo físico David Mermin a um de seus orientandos quando o mesmo começou a gerar as famosas perguntas sem resposta que todo professor de Mecânica Quântica já se acostumou em responder com um sorriso enigmático. A frase simplesmente foi (em inglês no original): *Shut Up and Calculate*. \n",
        "\n",
        "Pelo estilo da mesma, ela foi atribuida ao físico ganhador do Nobel, Richard Feynman. Ele não pronunciou a mesma, mas parafraseando as palavras de um grande humorista brasileiro Dias Gomes, criador do inesquecível prefeito de Sucupira Odorico Paraguassu: \"Se não disse, deveria ter dito\"."
      ]
    },
    {
      "cell_type": "markdown",
      "metadata": {
        "id": "awRji-XkfMZI"
      },
      "source": [
        "A partir deste momento, nossas partículas elementares passarão a se constituir de entes abstratos chamados de **Qubits**. Tais elementos terão a capacidade de entrar em sobreposição de seus estados fundamentais *x_i* e serão retirados dela quando forem medidos, momento no qual nos apresentarão como resultado um dos *x_i* possíveis. A probabilidade de medirmos o resultado *x_i* será dada pelo produto $c_i.c_i^{*}$. Estaremos interessados apenas com as situações nas quais a soma de todos os produtos $c_i.c_i^*$ dará 1 (100%).   "
      ]
    },
    {
      "cell_type": "markdown",
      "metadata": {
        "id": "6Tw_EG5mgFo3"
      },
      "source": [
        "É necessário entender ainda um outro fenômeno, o do **entrelaçamento**. Por conta dele, duas partículas ao interagirem uma com a outra, ficam \"amarradas\" de tal forma que seus estados individuais passam a se comportar em conjunto, misturando tanto seus $c_i$s quanto seus $x_i$s. Estes e outros fenômenos serão estudados dentro do paradigma de circuitos lógicos de Qubit (ou simplesmente de Qubits), através de experimentos realizados com os recursos disponibilizados com o pacote Qiskit. Sendo assim, vamos aprender a instalar e utilizar o mesmo."
      ]
    }
  ]
}