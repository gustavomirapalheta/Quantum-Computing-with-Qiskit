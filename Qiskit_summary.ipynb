{
  "nbformat": 4,
  "nbformat_minor": 0,
  "metadata": {
    "colab": {
      "name": "Qiskit_summary.ipynb",
      "provenance": [],
      "authorship_tag": "ABX9TyNPIXHsTtQl5cWuP22tHrGV"
    },
    "kernelspec": {
      "name": "python3",
      "display_name": "Python 3"
    },
    "language_info": {
      "name": "python"
    }
  },
  "cells": [
    {
      "cell_type": "markdown",
      "metadata": {
        "id": "s774jE62wI9z"
      },
      "source": [
        "**Setup do ambiente**"
      ]
    },
    {
      "cell_type": "code",
      "metadata": {
        "id": "xU_fOT42JQ4S"
      },
      "source": [
        "!pip install retworkx==0.8.0 # Confirmar necessidade 2021 09 29\n",
        "!pip install qiskit -q # Confirmar necessidade 2021 09 29\n",
        "!pip install qiskit[visualization]\n",
        "!pip install pylatexenc # Confirmar necessidade 2021 09 29\n",
        "import os\n",
        "os._exit(00)"
      ],
      "execution_count": null,
      "outputs": []
    },
    {
      "cell_type": "code",
      "metadata": {
        "id": "KkIj5e6j921q"
      },
      "source": [
        "import qiskit as qk\n",
        "import numpy as np\n",
        "np.set_printoptions(precision=3, suppress=True)\n",
        "%matplotlib inline"
      ],
      "execution_count": null,
      "outputs": []
    },
    {
      "cell_type": "markdown",
      "metadata": {
        "id": "sUWvvOG1JA4p"
      },
      "source": [
        "**1o Circuito**"
      ]
    },
    {
      "cell_type": "code",
      "metadata": {
        "colab": {
          "base_uri": "https://localhost:8080/",
          "height": 203
        },
        "id": "INzZr344Hy7i",
        "outputId": "f6e0478f-10b4-4ac8-988e-b0f67544dcbf"
      },
      "source": [
        "circuit = qk.QuantumCircuit(2, 2)\n",
        "circuit.h(0)\n",
        "circuit.cx(0,1)\n",
        "circuit.measure([0,1], [0,1])\n",
        "display(circuit.draw('mpl'))\n",
        "\n",
        "resultados = qk.execute(circuit,\n",
        "                        qk.BasicAer.get_backend('qasm_simulator'),\n",
        "                        shots = 1000).result().get_counts()\n",
        "resultados"
      ],
      "execution_count": null,
      "outputs": [
        {
          "output_type": "display_data",
          "data": {
            "image/png": "[encoded data removed]",
            "text/plain": [
              "<Figure size 327.252x204.68 with 1 Axes>"
            ]
          },
          "metadata": {
            "tags": []
          }
        },
        {
          "output_type": "execute_result",
          "data": {
            "text/plain": [
              "{'00': 504, '11': 496}"
            ]
          },
          "metadata": {
            "tags": []
          },
          "execution_count": 2
        }
      ]
    },
    {
      "cell_type": "markdown",
      "metadata": {
        "id": "fWw1uttMJZwq"
      },
      "source": [
        "**1o Circuito - 2a Simulação**"
      ]
    },
    {
      "cell_type": "code",
      "metadata": {
        "colab": {
          "base_uri": "https://localhost:8080/",
          "height": 203
        },
        "id": "-jcjCt1iLX0W",
        "outputId": "5929f866-d762-4149-d63d-4f86d848dd85"
      },
      "source": [
        "circuit = qk.QuantumCircuit(2, 2)\n",
        "circuit.h(0)\n",
        "circuit.cx(0,1)\n",
        "circuit.measure([0,1], [0,1])\n",
        "display(circuit.draw('mpl'))\n",
        "\n",
        "counts = qk.execute(circuit, \n",
        "                    qk.BasicAer.get_backend('qasm_simulator'), \n",
        "                    shots=1000).result().get_counts(circuit)\n",
        "print(counts)"
      ],
      "execution_count": null,
      "outputs": [
        {
          "output_type": "display_data",
          "data": {
            "image/png": "[encoded data removed]",
            "text/plain": [
              "<Figure size 327.252x204.68 with 1 Axes>"
            ]
          },
          "metadata": {
            "tags": []
          }
        },
        {
          "output_type": "stream",
          "text": [
            "{'00': 524, '11': 476}\n"
          ],
          "name": "stdout"
        }
      ]
    },
    {
      "cell_type": "markdown",
      "metadata": {
        "id": "oafuF4Woxzfn"
      },
      "source": [
        "**2o Circuito**"
      ]
    },
    {
      "cell_type": "code",
      "metadata": {
        "colab": {
          "base_uri": "https://localhost:8080/",
          "height": 249
        },
        "id": "yqKnb81M5POE",
        "outputId": "d7b34233-ddee-4c28-98ae-dbf6a04a97f0"
      },
      "source": [
        "circuito = qk.QuantumCircuit(3,3)\n",
        "for i in range(3):\n",
        "  circuito.h(i)\n",
        "  circuito.measure(i,i)\n",
        "display(circuito.draw('mpl'))\n",
        "counts = qk.execute(circuito,\n",
        "                    qk.BasicAer.get_backend('qasm_simulator'),\n",
        "                    shots = 1).result().get_counts()\n",
        "print(counts)"
      ],
      "execution_count": null,
      "outputs": [
        {
          "output_type": "display_data",
          "data": {
            "image/png": "[encoded data removed]",
            "text/plain": [
              "<Figure size 327.397x264.88 with 1 Axes>"
            ]
          },
          "metadata": {
            "tags": []
          }
        },
        {
          "output_type": "stream",
          "text": [
            "{'011': 1}\n"
          ],
          "name": "stdout"
        }
      ]
    },
    {
      "cell_type": "markdown",
      "metadata": {
        "id": "to7XEAQG-TeN"
      },
      "source": [
        "**3o Circuito**"
      ]
    },
    {
      "cell_type": "code",
      "metadata": {
        "id": "DzIHBYjUJIIS"
      },
      "source": [
        "from qiskit.providers.aer import AerSimulator\n",
        "sim = AerSimulator() "
      ],
      "execution_count": null,
      "outputs": []
    },
    {
      "cell_type": "code",
      "metadata": {
        "colab": {
          "base_uri": "https://localhost:8080/",
          "height": 294
        },
        "id": "F6Dd7DfgA5hm",
        "outputId": "3b566f5e-546d-49a6-d873-2bb7323c7303"
      },
      "source": [
        "from qiskit import QuantumCircuit\n",
        "qc = QuantumCircuit(4,4)\n",
        "qc.x([0,1])\n",
        "qc.cx([0,1],[2,2])\n",
        "qc.ccx(0,1,3)\n",
        "qc.measure([0,1,2,3],[0,1,2,3])\n",
        "display(qc.draw(output='mpl'))\n",
        "\n",
        "job = sim.run(qc)\n",
        "result = job.result()\n",
        "result.get_counts()"
      ],
      "execution_count": null,
      "outputs": [
        {
          "output_type": "display_data",
          "data": {
            "image/png": "[encoded data removed]",
            "text/plain": [
              "<Figure size 568.197x325.08 with 1 Axes>"
            ]
          },
          "metadata": {}
        },
        {
          "output_type": "execute_result",
          "data": {
            "text/plain": [
              "{'1011': 1024}"
            ]
          },
          "metadata": {},
          "execution_count": 61
        }
      ]
    },
    {
      "cell_type": "markdown",
      "metadata": {
        "id": "mJ7hZo5eJvKD"
      },
      "source": [
        "**4o Circuito**"
      ]
    },
    {
      "cell_type": "code",
      "metadata": {
        "colab": {
          "base_uri": "https://localhost:8080/",
          "height": 158
        },
        "id": "zOAEGIBbJXME",
        "outputId": "b584a1e8-626b-4306-fc30-b7edcd682bc1"
      },
      "source": [
        "from qiskit import QuantumCircuit\n",
        "qc = QuantumCircuit(1,1)\n",
        "qc.x(0)\n",
        "qc.h(0)\n",
        "qc.h(0)\n",
        "qc.measure(0,0)\n",
        "display(qc.draw(output='mpl'))\n",
        "\n",
        "job = sim.run(qc)\n",
        "result = job.result()\n",
        "result.get_counts()"
      ],
      "execution_count": null,
      "outputs": [
        {
          "output_type": "display_data",
          "data": {
            "image/png": "[encoded data removed]",
            "text/plain": [
              "<Figure size 314.126x144.48 with 1 Axes>"
            ]
          },
          "metadata": {}
        },
        {
          "output_type": "execute_result",
          "data": {
            "text/plain": [
              "{'1': 1024}"
            ]
          },
          "metadata": {},
          "execution_count": 72
        }
      ]
    },
    {
      "cell_type": "code",
      "metadata": {
        "id": "Fo9mPo97-b_O"
      },
      "source": [
        ""
      ],
      "execution_count": null,
      "outputs": []
    }
  ]
}