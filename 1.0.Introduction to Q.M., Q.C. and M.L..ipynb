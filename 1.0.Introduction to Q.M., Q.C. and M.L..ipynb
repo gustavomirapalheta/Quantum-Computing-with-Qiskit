{
  "nbformat": 4,
  "nbformat_minor": 0,
  "metadata": {
    "colab": {
      "provenance": [],
      "collapsed_sections": [
        "sW7UgQCBRyQw",
        "VV3eX9ovB9mm",
        "VNL6W8InCJwH",
        "15vW4PaICzMM",
        "Z-Ew407NC9ja",
        "MHUXwokxDVw5",
        "UKM9qKSADnW6",
        "S2eJQMotDqpw",
        "oir8ORAJPpbu",
        "q6CKyAjZExhB",
        "4ocGrhlWiWIf",
        "v3UqkrjBQNpm",
        "WiU5MCxkVRFn",
        "iXLV4XrNmv3P",
        "SvVZ5cDuxVpq",
        "kiCk9ste2kEp",
        "Ptc148gj5-yM",
        "eapieNWAAmwi",
        "ytG9GpwxO92b",
        "9MagSZ19UCn-",
        "sUWvvOG1JA4p",
        "oafuF4Woxzfn",
        "to7XEAQG-TeN",
        "0wMhivx2ZcKK",
        "YwgtKJNeUgce",
        "IBHGIBs-chJ4",
        "wLjxgdx-pjFa",
        "2D5Xgh1pCqkw",
        "Id1_8joHHF1R",
        "MG4KkBKXccmh",
        "akkdxEaqI6E-",
        "fSAcu_1CxpTf",
        "eT58FeMdKNB4",
        "MGJ6o50INzVc",
        "ZTbai-XW8rJv",
        "-NHN7Bhe-5Vm",
        "74orZ86E-_Dd",
        "dZHO-jrv_DkH",
        "6un9f7n7_m1h",
        "-goLmNeMQS5j",
        "rgApWdmDR0_6",
        "6v9XWEJwSpbd",
        "iHZnCzcHgvlG",
        "ShXnWwZxhBHa",
        "G4CDOj9dRaiQ",
        "_xxGuaeKhQ7D",
        "f00zjAKEDBf1",
        "esSMH1DwOdNV",
        "8kYgfEZZPPcZ",
        "GVuYdxlVOvsX",
        "17eC7VutPZLu",
        "msgcQHcRQC7E",
        "w0DCn9z8Spgi",
        "NbB57ROyaK3g",
        "L5Yf_7rCbOT1",
        "5NGpg49zbivF",
        "n7_t5GFMJuUu",
        "YIKtbAUf6vgz",
        "gCDxt_iUTnaT",
        "e-etkHt80C88",
        "3wTSvE6307_I",
        "jVXS820b0MXH",
        "vs0gUv1_0cxt",
        "fq053ufO0sHF",
        "CJrKy34yTzL2",
        "heLe5LaUuri4",
        "BecRJl3d1P76",
        "1FDtHZxNuOcG",
        "48OFgjtauiMO",
        "V9VbEDWOu92x",
        "rIm0cRaEvULT",
        "VbfKm6javeWb",
        "OzS1Svbq7jFs",
        "vJJUVyxM76WV",
        "EUqwY5N88U6u",
        "p7EEc0y-87vv",
        "QubQJSU1-Wxy",
        "yTMmCaQxXCSx",
        "uI2eavuPr-t-",
        "jLutxRBaR_M0",
        "zaeTfdrdx_nX",
        "Y1unh1voF3Y-",
        "KnOau2_XGlu_",
        "N0RPCz4uIU46",
        "Y4nRvlBMLCYk",
        "nEw0BFT6FX-V",
        "SvYkYYlPpJyh",
        "1hijUpTVpuCz",
        "7BGZrQGcqEGS",
        "zMhhS_iRq-AK",
        "5ibJQU5Zr2ps",
        "nmfGSC_3Jgmu",
        "BI-L3c_5J0iW",
        "F40kMbYFKBUh",
        "Q10FtS93cIE_",
        "ItvjCTx3PgZm",
        "amUC3Wc8FQm5",
        "9HIdHPdawN0o",
        "8NfADmgHoJpH",
        "oY1u9FGH3ede",
        "APQMlSsDwd3f",
        "cZp76jVZNInK",
        "eBV5luoh_lRe",
        "15uOBDwm_cs9",
        "0KZnJR3_h4Gx",
        "T9x2pcGvkeNP",
        "zvXsjA6iopHP",
        "6mZDq-zEu-Zs",
        "D68JObqavGGS",
        "skJ_bWG9Rcmc",
        "mrapECCuD4US",
        "Pf5aV6vAYg_n",
        "onbvRcz1YsJq",
        "rBeuRW6OKQWa",
        "RG28afA4QCNP",
        "BoAcjzvXRY2n",
        "XE8-dMvQUoDG"
      ]
    },
    "kernelspec": {
      "display_name": "Python 3 (ipykernel)",
      "language": "python",
      "name": "python3"
    },
    "language_info": {
      "codemirror_mode": {
        "name": "ipython",
        "version": 3
      },
      "file_extension": ".py",
      "mimetype": "text/x-python",
      "name": "python",
      "nbconvert_exporter": "python",
      "pygments_lexer": "ipython3",
      "version": "3.8.10"
    }
  },
  "cells": [
    {
      "cell_type": "markdown",
      "source": [
        "#### **Quantum Mechanics, Quantum Computing and Machine Learning: An Introduction**"
      ],
      "metadata": {
        "id": "sW7UgQCBRyQw"
      }
    },
    {
      "cell_type": "markdown",
      "metadata": {
        "id": "CrI9T05APtmi"
      },
      "source": [
        "The objective of this work is to present Quantum Mechanics and Quantum Computing using Python and Qiskit. The sections that follow provide a broad theorectical perspective on quantum mechanics, quantum computing and machine learning."
      ]
    },
    {
      "cell_type": "markdown",
      "source": [
        "##### 3 Basic Concepts: Superposition, Interference, Entanglement"
      ],
      "metadata": {
        "id": "VV3eX9ovB9mm"
      }
    },
    {
      "cell_type": "markdown",
      "metadata": {
        "id": "mcRR9oiPVfqh"
      },
      "source": [
        "The idea behind quantum computing is based in three concepts:\n",
        "\n",
        "1.   **Superposition of states**: the Qubit is neither in the $|0 \\rangle$ or $|1 \\rangle$ state but in a mixed state called superposition of states. Bare in mind that the notion that it is at the same time in the $|0 \\rangle$ and $|1 \\rangle$ state is wrong. The system is in a state that is formed from the basis states $|0 \\rangle$ and $|1 \\rangle$.\n",
        "2.   **Interference**: is the possibility of making states interact with one another (or with themselves) in such a way that the desired pattern (the one that holds the answer for our problem) is reinforced while the other patterns are cancelled out.\n",
        "3.   **Entanglement**: an extremely strong correlation between states that cannot happen in classical physics. Because of it, two particles when they interact with one another remain entangled (\"amarradas\" in portuguese) after that. This entangled state means that their states are grouped in such a way that they cannot be represented individually.\n",
        "\n",
        "\n"
      ]
    },
    {
      "cell_type": "markdown",
      "source": [
        "##### Dirac Notation"
      ],
      "metadata": {
        "id": "VNL6W8InCJwH"
      }
    },
    {
      "cell_type": "markdown",
      "metadata": {
        "id": "8KFf4RbgIRfW"
      },
      "source": [
        "**Dirac notation**: through it we can represent the superposition of $n$ states and amplitudes in a system $|\\psi\\rangle$ as follows: $|\\psi\\rangle = c_0|x_0 \\rangle + c_1 | x_1 \\rangle + ... + \\ c_{n-1}|x_{n-1} \\rangle$"
      ]
    },
    {
      "cell_type": "markdown",
      "source": [
        "##### Wave Function Collapse"
      ],
      "metadata": {
        "id": "15vW4PaICzMM"
      }
    },
    {
      "cell_type": "markdown",
      "metadata": {
        "id": "yBv37sQTTIkp"
      },
      "source": [
        "**Wave Function Collapse**: we can only know \"what's going on\" with a subatomic particle (a photon of light for example) if we try to measure its state. At this moment the particle will \"answer\" us with any of the possible states $|x_i\\rangle$ above. At this moment the particle \"interrupts\" its superimposition and shows us a momentary photograph of itself. We name this phenomenon the collapse of the wave function associated with the particle."
      ]
    },
    {
      "cell_type": "markdown",
      "source": [
        "Always remember this: when we measure a system $|\\psi\\rangle$ the answer we get is one of $|\\psi\\rangle$ base states $|x_0\\rangle$ ... $|x_1\\rangle$. It is very important to remember that the operations performed by quantum gates change the state, but they don't necessarily change the amplitudes."
      ],
      "metadata": {
        "id": "gWTVkjsKC0Mo"
      }
    },
    {
      "cell_type": "markdown",
      "source": [
        "For instance, suppose a system $|\\psi\\rangle = \\frac{1}{2}(|00\\rangle - |01\\rangle +|10\\rangle -|11\\rangle)$. This system has a vector representation $$|\\psi\\rangle =\\frac{1}{2} \\begin{bmatrix}\n",
        "    1 \\\\\n",
        "    -1 \\\\\n",
        "    1 \\\\\n",
        "    -1\n",
        "\\end{bmatrix}$$.\n"
      ],
      "metadata": {
        "id": "w90U4w1yEPlM"
      }
    },
    {
      "cell_type": "markdown",
      "source": [
        "Now if we change 0s by 1s and vice-versa the new state will be: $|\\psi\\rangle = \\frac{1}{2}(|11\\rangle - |10\\rangle +|01\\rangle -|00\\rangle)$. Notice that $-|01\\rangle$ became $-|10\\rangle$. Nonetheless, when we write the vector representation the resulting $-|00\\rangle$ is put always in the first position. It now becomes: $$|\\psi\\rangle = \\frac{1}{2} \\begin{bmatrix}\n",
        "    -1 \\\\\n",
        "    1 \\\\\n",
        "    -1 \\\\\n",
        "    1\n",
        "\\end{bmatrix}$$"
      ],
      "metadata": {
        "id": "ddrLCsVXGQY5"
      }
    },
    {
      "cell_type": "markdown",
      "source": [
        "##### State's Amplitudes and Probabilities"
      ],
      "metadata": {
        "id": "Z-Ew407NC9ja"
      }
    },
    {
      "cell_type": "markdown",
      "metadata": {
        "id": "4KWHnSmXXXUy"
      },
      "source": [
        "**Amplitudes $c_0$ ... $c_{n-1}$** and **measurement probabilities of states $x_0$ ... $x_{n-1}$** of a **particle** : Each measurable state $x_0$ ... $x_{n-1}$ has a range $c_i$ associated with it. This amplitude can be any complex number, with any value (negative, zero or positive) both in its real part and in its imaginary part.\n",
        "\n",
        "The probability of obtaining the value $x_i$ as a response to a measurement of the state of a particle is associated with the product $c_i.c_i^{*}$ associated with the amplitude $c_i$ of the state $x_i$.\n",
        "\n",
        "Since the numerical value $c_i$ can be any complex number, we must remember that $c_i^{*}$ is its complex conjugate (the number obtained by changing the sign of its imaginary part). For example if $c_i = 3 + 4i$, its complex conjugate $c_i^{*}$ will be equal to $c_i^{*} = 3 - 4i$.\n",
        "\n",
        "But note that the product $c_i.c_i^{*}$ will always be a real number. If we assume that the sum of all products $c_i.c_i^{*}$ to $i$ going from $0$ to $n-1$ is equal to $1$, we can say that each product $c_i.c_i^{* }$ will represent the probability of obtaining the state $x_i$ associated with any measure."
      ]
    },
    {
      "cell_type": "markdown",
      "source": [
        "##### The Strangeness of Quantum Mechanics"
      ],
      "metadata": {
        "id": "MHUXwokxDVw5"
      }
    },
    {
      "cell_type": "markdown",
      "metadata": {
        "id": "-MhiJZk3cHdx"
      },
      "source": [
        "All the \"weirdness\" of Quantum Mechanics stems from the possibility of these $n$ amplitudes $c_i$ being constituted of any possible number. Being able to mix positive and negative values, we can obtain as a result for a combination of different $c_i$s even the value 0. This means that the state $x_i$ associated with the amplitude $c_i$ will have probability 0% of being measured, which means that we are not going to measure it. Therefore, we say that that result \"disappeared\" from our measurements, in other words, in that situation the particle \"disappeared\". Given that such a sum with a null result can only appear as a result of the interaction of other states, we say that a phenomenon of **interference** of the particle has occurred. However, we are led to conclude that, given the states of the particle interacting with each other (while it is in superposition), the particle is interacting **with itself**.\n",
        "\n",
        "From a philosophical point of view, this can generate an enormous confusion. In fact, it has generated thousands of pages with arguments and counter arguments for more than a hundred years. Great names of science tried subtle schemes, with mind-boogling twists of thought, to find ways to explain such phenomena. For our part, what interests us is that the superposition and its consequences can be easily analyzed through the machinery of complex numbers and linear algebra. Here we will follow the *philosophical* line very well described by a phrase uttered by the physicist David Mermin. It is said that one of his students started asking the so called unanswered questions about the nature of the quantum world. Every professor of Quantum Mechanics has become accustomed to answering such questions with an enigmatic smile. But in this case, Mermin just said: *Shut Up and Calculate*.\n",
        "\n",
        "Due to its style, it was attributed to the Nobel Prize-winning physicist, Richard Feynman. He did not say the same, but paraphrasing the words of a great Brazilian humorist Dias Gomes, creator of the unforgettable mayor of Sucupira Odorico Paraguassu: \"If he didn't say it, he should have said it\"."
      ]
    },
    {
      "cell_type": "markdown",
      "source": [
        "##### Qubits"
      ],
      "metadata": {
        "id": "UKM9qKSADnW6"
      }
    },
    {
      "cell_type": "markdown",
      "metadata": {
        "id": "awRji-XkfMZI"
      },
      "source": [
        "From this moment on, our elementary particles will start to consist of abstract beings called **Qubits**. Such elements will have the capacity to overlap their fundamental states *x_i* and will be removed from it when they are measured, at which point they will show us one of the possible $x_i$ results. The probability of measuring the result $x_i$ will be given by the product $c_i.c_i^{*}$. We will only be interested with the situations in which the sum of all products $c_i.c_i^*$ will give 1 (100%)."
      ]
    },
    {
      "cell_type": "markdown",
      "source": [
        "##### NISQ: Noisy Intermediate Scale Quantum Computing"
      ],
      "metadata": {
        "id": "S2eJQMotDqpw"
      }
    },
    {
      "cell_type": "markdown",
      "metadata": {
        "id": "BZnRIxgViM0_"
      },
      "source": [
        "**NISQ: Noisy Intermediate Scale Quantum Computing**: Quantum computing today is based in a technique called **NISQ**. This technology uses both classical and quantum computers. Classical computers handle the machine learning problem the same way they usually do. The task of \"crunching\" the numbers (get the parameters for the machine learning model and having it tested) is handled by the quantum counterpart. The algorithms that handle the problem this way are called **Variational Quantum-Classical Algorithms**"
      ]
    },
    {
      "cell_type": "markdown",
      "metadata": {
        "id": "oir8ORAJPpbu"
      },
      "source": [
        "##### Machine Learning"
      ]
    },
    {
      "cell_type": "markdown",
      "metadata": {
        "id": "HZ6646TxYqFb"
      },
      "source": [
        "Machine learning is the process of tagging data in a data frame. The first thing that needs to be choosen is a target variable. Depending on whether you have examples of your target variable or not, the task can fall in one of two main categories:\n",
        "\n",
        "1.   **Supervised Learning**: when you have past examples of your input and output data. Depending on whether your output variable is categorical (discrete) or continuous, the supervised learning task can be called:\n",
        "      1. **Classification**: when your output variable is discrete (categorical). Logistic regression is the main example of classification technique.\n",
        "      2. **Regression**: when your output variable is continuous. Linear regression is the main example.\n",
        "\n",
        "2.   **Unsupervised Learning**: when you don't have past examples of your output variable or not even know what it could be. In this case you want the machine to group your data so you can try finding some pattern in it. Depending on wether you want to group the rows or the columns of you data frame, this task can be called:\n",
        "      1. **Clustering**: when you want the machine to tag (group) the rows of your data frame. This tagging can become in the future your output variable to be used in a supervised learning classification problem.\n",
        "      2. **PCA**: when you want the machine to tag (group) the columns of your data frame. In this case you want a new column that will replace some of the original ones through a simple formula."
      ]
    },
    {
      "cell_type": "markdown",
      "source": [
        "##### Project Life Cycle"
      ],
      "metadata": {
        "id": "q6CKyAjZExhB"
      }
    },
    {
      "cell_type": "markdown",
      "metadata": {
        "id": "NpyF1jKPblKJ"
      },
      "source": [
        "The process of solving a problem using Machine Learning usually involves five steps:\n",
        "\n",
        "1.   **Problem Definition**: decide which variable will be predicted. This will be called your output variable.\n",
        "2.   **Data Preparation**: decide which variables you need to try predicting your output variable. These variables will be called input variables. In this step you will also find examples of your variables and have them cleaned and ready to be used.\n",
        "3.   **Model Development**: Based on your output variable type availability you will decide if you're going to develop a classification, regression, clustering or PCA model.\n",
        "4.   **Results Analysis**: When you link the math results from trainning and testing the model developed in stage 3 with your business objectives and present your results for both a technical and a business oriented audience.\n",
        "5.   **Model Deployment**: When your model goes live. Here usually you deal with problems of interfacing your model with real people (managerial issues) or with other systems in your client (a task usually called data engineering)."
      ]
    }
  ]
}